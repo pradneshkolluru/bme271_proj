{
 "cells": [
  {
   "cell_type": "code",
   "execution_count": 1,
   "id": "3370564b",
   "metadata": {},
   "outputs": [
    {
     "data": {
      "text/plain": [
       "'/Users/pradneshkolluru/Library/CloudStorage/OneDrive-DukeUniversity/Courses/BME271/bme271_proj'"
      ]
     },
     "execution_count": 1,
     "metadata": {},
     "output_type": "execute_result"
    }
   ],
   "source": [
    "pwd"
   ]
  },
  {
   "cell_type": "code",
   "execution_count": 57,
   "id": "97491ed5",
   "metadata": {},
   "outputs": [],
   "source": [
    "import glob\n",
    "import os\n",
    "import numpy as np\n",
    "import cv2 as cv\n",
    "import cv2 as cv2\n",
    "from matplotlib import pyplot as plt\n",
    "from IPython.display import Image as Image\n",
    "from IPython.display import display\n",
    "from IPython.display import clear_output\n",
    "import PIL\n",
    "import ipywidgets as widgets\n",
    "import pandas as pd\n",
    "from fpdf import FPDF\n",
    "\n",
    "from IPython.display import IFrame\n"
   ]
  },
  {
   "cell_type": "code",
   "execution_count": 3,
   "id": "59c85cbe",
   "metadata": {},
   "outputs": [
    {
     "name": "stdout",
     "output_type": "stream",
     "text": [
      "BME271 Skeleton Code.ipynb  \u001b[31mmain.ipynb\u001b[m\u001b[m*\r\n",
      "\u001b[34mDrawings\u001b[m\u001b[m/                   makePdf.ipynb\r\n",
      "\u001b[34mProcessed\u001b[m\u001b[m/                  tracker.csv\r\n",
      "empty.jpg                   \u001b[34mworksheets\u001b[m\u001b[m/\r\n"
     ]
    }
   ],
   "source": [
    "ls"
   ]
  },
  {
   "cell_type": "code",
   "execution_count": 177,
   "id": "8c80c129",
   "metadata": {},
   "outputs": [],
   "source": [
    "def initiliazeTrackers():\n",
    "    \n",
    "    dictTrack = {}\n",
    "\n",
    "    for filepath in glob.glob('./Drawings/*.jpeg'):\n",
    "\n",
    "        name = filepath.split(\"/\")[-1].split(\".\")[0]\n",
    "\n",
    "        dictTrack[name] = {'raw': filepath, '1': '', '2': '', '3': '', '4': '', '5': ''}\n",
    "\n",
    "        print(name)\n",
    "\n",
    "    frameTrack = pd.DataFrame.from_dict(dictTrack, orient='index')\n",
    "    \n",
    "    return (dictTrack, frameTrack)\n",
    "\n"
   ]
  },
  {
   "cell_type": "code",
   "execution_count": 178,
   "id": "746c0915",
   "metadata": {},
   "outputs": [
    {
     "name": "stdout",
     "output_type": "stream",
     "text": [
      "squirrel\n",
      "bird\n",
      "elephant\n",
      "eagle\n"
     ]
    }
   ],
   "source": [
    "fileTrack, trackDf = initiliazeTrackers()"
   ]
  },
  {
   "cell_type": "code",
   "execution_count": 119,
   "id": "5c018a77",
   "metadata": {},
   "outputs": [
    {
     "data": {
      "text/plain": [
       "{'squirrel': {'raw': './Drawings/squirrel.jpeg',\n",
       "  '1': '',\n",
       "  '2': '',\n",
       "  '3': '',\n",
       "  '4': '',\n",
       "  '5': ''},\n",
       " 'bird': {'raw': './Drawings/bird.jpeg',\n",
       "  '1': '',\n",
       "  '2': '',\n",
       "  '3': '',\n",
       "  '4': '',\n",
       "  '5': ''},\n",
       " 'elephant': {'raw': './Drawings/elephant.jpeg',\n",
       "  '1': '',\n",
       "  '2': '',\n",
       "  '3': '',\n",
       "  '4': '',\n",
       "  '5': ''},\n",
       " 'eagle': {'raw': './Drawings/eagle.jpeg',\n",
       "  '1': '',\n",
       "  '2': '',\n",
       "  '3': '',\n",
       "  '4': '',\n",
       "  '5': ''}}"
      ]
     },
     "execution_count": 119,
     "metadata": {},
     "output_type": "execute_result"
    }
   ],
   "source": [
    "fileTrack"
   ]
  },
  {
   "cell_type": "code",
   "execution_count": 121,
   "id": "91639dfc",
   "metadata": {},
   "outputs": [
    {
     "data": {
      "text/html": [
       "<div>\n",
       "<style scoped>\n",
       "    .dataframe tbody tr th:only-of-type {\n",
       "        vertical-align: middle;\n",
       "    }\n",
       "\n",
       "    .dataframe tbody tr th {\n",
       "        vertical-align: top;\n",
       "    }\n",
       "\n",
       "    .dataframe thead th {\n",
       "        text-align: right;\n",
       "    }\n",
       "</style>\n",
       "<table border=\"1\" class=\"dataframe\">\n",
       "  <thead>\n",
       "    <tr style=\"text-align: right;\">\n",
       "      <th></th>\n",
       "      <th>raw</th>\n",
       "      <th>1</th>\n",
       "      <th>2</th>\n",
       "      <th>3</th>\n",
       "      <th>4</th>\n",
       "      <th>5</th>\n",
       "    </tr>\n",
       "  </thead>\n",
       "  <tbody>\n",
       "    <tr>\n",
       "      <th>squirrel</th>\n",
       "      <td>./Drawings/squirrel.jpeg</td>\n",
       "      <td></td>\n",
       "      <td></td>\n",
       "      <td></td>\n",
       "      <td></td>\n",
       "      <td></td>\n",
       "    </tr>\n",
       "    <tr>\n",
       "      <th>bird</th>\n",
       "      <td>./Drawings/bird.jpeg</td>\n",
       "      <td></td>\n",
       "      <td></td>\n",
       "      <td></td>\n",
       "      <td></td>\n",
       "      <td></td>\n",
       "    </tr>\n",
       "    <tr>\n",
       "      <th>elephant</th>\n",
       "      <td>./Drawings/elephant.jpeg</td>\n",
       "      <td></td>\n",
       "      <td></td>\n",
       "      <td></td>\n",
       "      <td></td>\n",
       "      <td></td>\n",
       "    </tr>\n",
       "    <tr>\n",
       "      <th>eagle</th>\n",
       "      <td>./Drawings/eagle.jpeg</td>\n",
       "      <td></td>\n",
       "      <td></td>\n",
       "      <td></td>\n",
       "      <td></td>\n",
       "      <td></td>\n",
       "    </tr>\n",
       "  </tbody>\n",
       "</table>\n",
       "</div>"
      ],
      "text/plain": [
       "                               raw 1 2 3 4 5\n",
       "squirrel  ./Drawings/squirrel.jpeg          \n",
       "bird          ./Drawings/bird.jpeg          \n",
       "elephant  ./Drawings/elephant.jpeg          \n",
       "eagle        ./Drawings/eagle.jpeg          "
      ]
     },
     "execution_count": 121,
     "metadata": {},
     "output_type": "execute_result"
    }
   ],
   "source": [
    "trackDf"
   ]
  },
  {
   "cell_type": "code",
   "execution_count": 185,
   "id": "74800844",
   "metadata": {},
   "outputs": [],
   "source": [
    "\n",
    "def updateTracker(repo, frame):\n",
    "\n",
    "    for name in repo:\n",
    "\n",
    "        processedPath = os.path.join(\"./Processed\", name)\n",
    "\n",
    "        if not os.path.exists(processedPath):\n",
    "            os.mkdir(processedPath)\n",
    "            #print(\"Directory '%s' created\" %processedPath)\n",
    "            \n",
    "        else:\n",
    "            \n",
    "            for filepath in glob.glob(processedPath + '/*.jpg'):\n",
    "                \n",
    "                num = filepath.split(\"/\")[-1].split('.')[0]\n",
    "                repo[name][num] = filepath\n",
    "                \n",
    "                frame.loc[name][num] = filepath\n",
    "                \n",
    "    frame.to_csv(\"./tracker.csv\")"
   ]
  },
  {
   "cell_type": "code",
   "execution_count": 123,
   "id": "a6ac5bcc",
   "metadata": {},
   "outputs": [],
   "source": [
    "updateTracker(fileTrack, trackDf)"
   ]
  },
  {
   "cell_type": "code",
   "execution_count": 124,
   "id": "5f9a7cba",
   "metadata": {},
   "outputs": [
    {
     "data": {
      "text/plain": [
       "{'squirrel': {'raw': './Drawings/squirrel.jpeg',\n",
       "  '1': './Processed/squirrel/1.jpg',\n",
       "  '2': './Processed/squirrel/2.jpg',\n",
       "  '3': './Processed/squirrel/3.jpg',\n",
       "  '4': './Processed/squirrel/4.jpg',\n",
       "  '5': './Processed/squirrel/5.jpg'},\n",
       " 'bird': {'raw': './Drawings/bird.jpeg',\n",
       "  '1': '',\n",
       "  '2': '',\n",
       "  '3': '',\n",
       "  '4': '',\n",
       "  '5': ''},\n",
       " 'elephant': {'raw': './Drawings/elephant.jpeg',\n",
       "  '1': './Processed/elephant/1.jpg',\n",
       "  '2': './Processed/elephant/2.jpg',\n",
       "  '3': './Processed/elephant/3.jpg',\n",
       "  '4': './Processed/elephant/4.jpg',\n",
       "  '5': './Processed/elephant/5.jpg'},\n",
       " 'eagle': {'raw': './Drawings/eagle.jpeg',\n",
       "  '1': './Processed/eagle/1.jpg',\n",
       "  '2': './Processed/eagle/2.jpg',\n",
       "  '3': './Processed/eagle/3.jpg',\n",
       "  '4': './Processed/eagle/4.jpg',\n",
       "  '5': './Processed/eagle/5.jpg'}}"
      ]
     },
     "execution_count": 124,
     "metadata": {},
     "output_type": "execute_result"
    }
   ],
   "source": [
    "fileTrack"
   ]
  },
  {
   "cell_type": "code",
   "execution_count": 125,
   "id": "a2166489",
   "metadata": {},
   "outputs": [
    {
     "data": {
      "text/html": [
       "<div>\n",
       "<style scoped>\n",
       "    .dataframe tbody tr th:only-of-type {\n",
       "        vertical-align: middle;\n",
       "    }\n",
       "\n",
       "    .dataframe tbody tr th {\n",
       "        vertical-align: top;\n",
       "    }\n",
       "\n",
       "    .dataframe thead th {\n",
       "        text-align: right;\n",
       "    }\n",
       "</style>\n",
       "<table border=\"1\" class=\"dataframe\">\n",
       "  <thead>\n",
       "    <tr style=\"text-align: right;\">\n",
       "      <th></th>\n",
       "      <th>raw</th>\n",
       "      <th>1</th>\n",
       "      <th>2</th>\n",
       "      <th>3</th>\n",
       "      <th>4</th>\n",
       "      <th>5</th>\n",
       "    </tr>\n",
       "  </thead>\n",
       "  <tbody>\n",
       "    <tr>\n",
       "      <th>squirrel</th>\n",
       "      <td>./Drawings/squirrel.jpeg</td>\n",
       "      <td>./Processed/squirrel/1.jpg</td>\n",
       "      <td>./Processed/squirrel/2.jpg</td>\n",
       "      <td>./Processed/squirrel/3.jpg</td>\n",
       "      <td>./Processed/squirrel/4.jpg</td>\n",
       "      <td>./Processed/squirrel/5.jpg</td>\n",
       "    </tr>\n",
       "    <tr>\n",
       "      <th>bird</th>\n",
       "      <td>./Drawings/bird.jpeg</td>\n",
       "      <td></td>\n",
       "      <td></td>\n",
       "      <td></td>\n",
       "      <td></td>\n",
       "      <td></td>\n",
       "    </tr>\n",
       "    <tr>\n",
       "      <th>elephant</th>\n",
       "      <td>./Drawings/elephant.jpeg</td>\n",
       "      <td>./Processed/elephant/1.jpg</td>\n",
       "      <td>./Processed/elephant/2.jpg</td>\n",
       "      <td>./Processed/elephant/3.jpg</td>\n",
       "      <td>./Processed/elephant/4.jpg</td>\n",
       "      <td>./Processed/elephant/5.jpg</td>\n",
       "    </tr>\n",
       "    <tr>\n",
       "      <th>eagle</th>\n",
       "      <td>./Drawings/eagle.jpeg</td>\n",
       "      <td>./Processed/eagle/1.jpg</td>\n",
       "      <td>./Processed/eagle/2.jpg</td>\n",
       "      <td>./Processed/eagle/3.jpg</td>\n",
       "      <td>./Processed/eagle/4.jpg</td>\n",
       "      <td>./Processed/eagle/5.jpg</td>\n",
       "    </tr>\n",
       "  </tbody>\n",
       "</table>\n",
       "</div>"
      ],
      "text/plain": [
       "                               raw                           1  \\\n",
       "squirrel  ./Drawings/squirrel.jpeg  ./Processed/squirrel/1.jpg   \n",
       "bird          ./Drawings/bird.jpeg                               \n",
       "elephant  ./Drawings/elephant.jpeg  ./Processed/elephant/1.jpg   \n",
       "eagle        ./Drawings/eagle.jpeg     ./Processed/eagle/1.jpg   \n",
       "\n",
       "                                   2                           3  \\\n",
       "squirrel  ./Processed/squirrel/2.jpg  ./Processed/squirrel/3.jpg   \n",
       "bird                                                               \n",
       "elephant  ./Processed/elephant/2.jpg  ./Processed/elephant/3.jpg   \n",
       "eagle        ./Processed/eagle/2.jpg     ./Processed/eagle/3.jpg   \n",
       "\n",
       "                                   4                           5  \n",
       "squirrel  ./Processed/squirrel/4.jpg  ./Processed/squirrel/5.jpg  \n",
       "bird                                                              \n",
       "elephant  ./Processed/elephant/4.jpg  ./Processed/elephant/5.jpg  \n",
       "eagle        ./Processed/eagle/4.jpg     ./Processed/eagle/5.jpg  "
      ]
     },
     "execution_count": 125,
     "metadata": {},
     "output_type": "execute_result"
    }
   ],
   "source": [
    "trackDf"
   ]
  },
  {
   "cell_type": "code",
   "execution_count": 189,
   "id": "124b5e69",
   "metadata": {},
   "outputs": [],
   "source": [
    "def displayImArray(rawPath, path1 = None, path2 = None, path3 = None, path4 = None, path5 = None):\n",
    "    \n",
    "    \n",
    "    raw = open(rawPath,'rb').read()\n",
    "    \n",
    "    img1 = open(\"./empty.jpg\",'rb').read()\n",
    "    img2 = open(\"./empty.jpg\",'rb').read()\n",
    "    img3 = open(\"./empty.jpg\",'rb').read()\n",
    "    img4 = open(\"./empty.jpg\",'rb').read()\n",
    "    img5 = open(\"./empty.jpg\",'rb').read()\n",
    "    \n",
    "    \n",
    "    if path1:\n",
    "        \n",
    "        img1 = open(path1,'rb').read()\n",
    "        \n",
    "        if path2:\n",
    "            \n",
    "            img2 = open(path2,'rb').read()\n",
    "            \n",
    "            if path3:\n",
    "            \n",
    "                img3 = open(path3,'rb').read()\n",
    "                \n",
    "                if path4:\n",
    "            \n",
    "                    img4 = open(path4,'rb').read()\n",
    "                \n",
    "                    if path5:\n",
    "            \n",
    "                        img5 = open(path5,'rb').read()\n",
    "    \n",
    "    #Display Dimensions\n",
    "    w = 300\n",
    "    h = 400\n",
    "    \n",
    "    wi0 = widgets.Image(value=raw, format='jpg', width=w, height=h)\n",
    "    wi1 = widgets.Image(value=img1, format='jpg', width=w, height=h)\n",
    "    wi2 = widgets.Image(value=img2, format='jpg', width=w, height=h)\n",
    "    wi3 = widgets.Image(value=img3, format='jpg', width=w, height=h)\n",
    "    wi4 = widgets.Image(value=img4, format='jpg', width=w, height=h)\n",
    "    wi5 = widgets.Image(value=img5, format='jpg', width=w, height=h)\n",
    "    \n",
    "    \n",
    "    a=[wi0, wi1, wi2, wi3, wi4, wi5]\n",
    "    wid=widgets.HBox(a)\n",
    "    display(wid)\n",
    "    \n",
    "    \n",
    "def saveProcess(name, num, arr):\n",
    "    \n",
    "    im = PIL.Image.fromarray(arr)\n",
    "    \n",
    "    savePath = os.path.join(\"./Processed\", name, num + \".jpg\")\n",
    "    \n",
    "    im.save(savePath)\n",
    "    \n",
    "    return(savePath)\n",
    "\n",
    "\n",
    "def captcha(x):\n",
    "    \n",
    "    if x:\n",
    "        q1 = input(\"Who is the dumbest person in the world? -- this person is now referred to as bob for the next questions: \")      \n",
    "        if q1.lower() != \"ashwin\":\n",
    "            raise Exception(\"Wrong - Answer Is Ashwin\")\n",
    "                \n",
    "        q2 = input(\"Who was Bob in a tree with in high school \")\n",
    "        if q2.lower() != \"ashika\" and q2.lower() != \"aliza\":\n",
    "            raise Exception(\"Wrong - Answer Is Aliza or Ashika\")\n",
    "                \n",
    "        q3 = input(\"And who else? \")\n",
    "        if q3.lower() != \"ashika\" and q3.lower() != \"aliza\":\n",
    "            raise Exception(\"Wrong - Answer Is Aliza or Ashika\")\n",
    "        \n",
    "        q4 = input(\"What were the doing in the tree? \")\n",
    "        if q4.lower() != 'kissing':\n",
    "            raise Exception(\"Wrong - Answer is Kissing\")\n",
    "                \n",
    "        q5 = input(\"What is Bob's favorite song? \")\n",
    "        if q5.lower() != 'stop snitchin':\n",
    "            raise Exception(\"Wrong - Answer is stop snitchin\")\n",
    "                \n",
    "        q6 = int(input(\"What is Bob's favorite number? \"))\n",
    "        if (q6 != 7):\n",
    "            raise Exception(\"Wrong - Answer is 7\")\n",
    "            \n",
    "            \n",
    "            \n",
    "def findProp(num, prop):\n",
    "    \n",
    "    div = num // (1 / prop)\n",
    "    \n",
    "    div = int(div)\n",
    "    \n",
    "    if div % 2 == 0:\n",
    "        \n",
    "        return div + 1\n",
    "    \n",
    "    else:\n",
    "        return div\n",
    "    "
   ]
  },
  {
   "cell_type": "code",
   "execution_count": 208,
   "id": "e21c528f",
   "metadata": {},
   "outputs": [],
   "source": [
    "\n",
    "def makeDrawFiles(name, dictTrack, frameTrack):\n",
    "    \n",
    "    \n",
    "    captcha(True)\n",
    "    \n",
    "    rawPath = dictTrack[name]['raw']\n",
    "    \n",
    "    raw = cv.imread(rawPath,0)\n",
    "    img = cv.imread(rawPath,0)\n",
    "\n",
    "    \n",
    "    \n",
    "    while True:\n",
    "        \n",
    "        \n",
    "        displayImArray(rawPath)\n",
    "        \n",
    "        medVal = 0\n",
    "        \n",
    "        while True:\n",
    "            \n",
    "            medVal = int(input('Why Median Blur Val do you want to try? (Odd Only & >20)    '))\n",
    "            \n",
    "            if medVal % 2 == 1:\n",
    "                \n",
    "                break\n",
    "                \n",
    "        ###### Process 1\n",
    "        img_blur = cv2.medianBlur(img, medVal)\n",
    "        edges1 = cv.Canny(img_blur,1,100)\n",
    "        \n",
    "        p1 = 255 - edges1\n",
    "        \n",
    "        onePath = saveProcess(name, \"1\", p1)\n",
    "        \n",
    "        displayImArray(rawPath, onePath)\n",
    "        \n",
    "        \n",
    "        ###### Step 1 Validation\n",
    "        \n",
    "        satisfied = input(\"Are you satisfied? (t or f)\")\n",
    "        \n",
    "        if (satisfied == 'f'):\n",
    "            \n",
    "            clear_output()\n",
    "            continue\n",
    "        \n",
    "        \n",
    "        ###### Process 2\n",
    "        \n",
    "        img_blur2 = cv2.medianBlur(img, findProp(medVal, .355))\n",
    "        edges2 = cv.Canny(img_blur2,1,100)\n",
    "        \n",
    "        p2 = 255 - edges2\n",
    "        \n",
    "        twoPath = saveProcess(name, \"2\", p2)\n",
    "        \n",
    "        #displayImArray(rawPath, onePath, twoPath)\n",
    "        \n",
    "        ###### Process 3\n",
    "        \n",
    "        img_blur3 = cv2.medianBlur(img, findProp(medVal, 2.29))\n",
    "        \n",
    "        img_blur3_2 = cv2.medianBlur(img, findProp(medVal, .355))\n",
    "        edges3 = cv.Canny(img_blur3_2, 1, 100)\n",
    "        edges3 = edges3 * 70\n",
    "        \n",
    "        p3 = (255 - edges3) + img_blur3\n",
    "        \n",
    "        threePath = saveProcess(name, \"3\", p3)\n",
    "        \n",
    "        #displayImArray(rawPath, onePath, twoPath, threePath)\n",
    "        \n",
    "        ###### Process 4\n",
    "        \n",
    "        img_blur4 = cv2.medianBlur(img, medVal)\n",
    "        \n",
    "        img_blur4_2 = cv2.medianBlur(img, findProp(medVal, .355))\n",
    "        edges4 = cv.Canny(img_blur4_2, 1, 100)\n",
    "        edges4 = edges4 * 70\n",
    "        \n",
    "        p4 = (255 - edges4) + img_blur4\n",
    "        \n",
    "        fourPath = saveProcess(name, \"4\", p4)\n",
    "        \n",
    "        #displayImArray(rawPath, onePath, twoPath, threePath, fourPath)\n",
    "        \n",
    "        ###### Process 5\n",
    "        \n",
    "        img_blur5 = cv2.medianBlur(img, 1)\n",
    "        \n",
    "        img_blur5_2 = cv2.medianBlur(img, findProp(medVal, .355))\n",
    "        edges5 = cv.Canny(img_blur5_2, 1, 100)\n",
    "        edges5 = edges5 * 70\n",
    "        \n",
    "        p5 = (255 - edges5) + img_blur5\n",
    "        \n",
    "        fivePath = saveProcess(name, \"5\", p5)\n",
    "        \n",
    "        updateTracker(dictTrack, frameTrack)\n",
    "        \n",
    "        displayImArray(rawPath, onePath, twoPath, threePath, fourPath, fivePath)\n",
    "    \n",
    "        break\n",
    "        \n",
    "\n",
    "    \n",
    "    \n",
    "    \n",
    "    "
   ]
  },
  {
   "cell_type": "code",
   "execution_count": 142,
   "id": "fde6f864",
   "metadata": {},
   "outputs": [
    {
     "data": {
      "application/vnd.jupyter.widget-view+json": {
       "model_id": "03a9c251f3d247b8b0e9f38bb6242523",
       "version_major": 2,
       "version_minor": 0
      },
      "text/plain": [
       "HBox(children=(Image(value=b'\\xff\\xd8\\xff\\xe0\\x00\\x10JFIF\\x00\\x01\\x01\\x00\\x00H\\x00H\\x00\\x00\\xff\\xe1\\x00LExif\\x…"
      ]
     },
     "metadata": {},
     "output_type": "display_data"
    },
    {
     "name": "stdout",
     "output_type": "stream",
     "text": [
      "Why Median Blur Val do you want to try? (Odd Only & >20)    31\n"
     ]
    },
    {
     "data": {
      "application/vnd.jupyter.widget-view+json": {
       "model_id": "03c4f753ca5744d88a8f98f259429554",
       "version_major": 2,
       "version_minor": 0
      },
      "text/plain": [
       "HBox(children=(Image(value=b'\\xff\\xd8\\xff\\xe0\\x00\\x10JFIF\\x00\\x01\\x01\\x00\\x00H\\x00H\\x00\\x00\\xff\\xe1\\x00LExif\\x…"
      ]
     },
     "metadata": {},
     "output_type": "display_data"
    },
    {
     "name": "stdout",
     "output_type": "stream",
     "text": [
      "Are you satisfied? (t or f)t\n"
     ]
    },
    {
     "data": {
      "application/vnd.jupyter.widget-view+json": {
       "model_id": "e5bc705ee9524f8f9ce96e8749d53343",
       "version_major": 2,
       "version_minor": 0
      },
      "text/plain": [
       "HBox(children=(Image(value=b'\\xff\\xd8\\xff\\xe0\\x00\\x10JFIF\\x00\\x01\\x01\\x00\\x00H\\x00H\\x00\\x00\\xff\\xe1\\x00LExif\\x…"
      ]
     },
     "metadata": {},
     "output_type": "display_data"
    }
   ],
   "source": [
    "makeDrawFiles(\"bird\", fileTrack, trackDf)"
   ]
  },
  {
   "cell_type": "code",
   "execution_count": 132,
   "id": "a10222ad",
   "metadata": {},
   "outputs": [
    {
     "data": {
      "text/html": [
       "<div>\n",
       "<style scoped>\n",
       "    .dataframe tbody tr th:only-of-type {\n",
       "        vertical-align: middle;\n",
       "    }\n",
       "\n",
       "    .dataframe tbody tr th {\n",
       "        vertical-align: top;\n",
       "    }\n",
       "\n",
       "    .dataframe thead th {\n",
       "        text-align: right;\n",
       "    }\n",
       "</style>\n",
       "<table border=\"1\" class=\"dataframe\">\n",
       "  <thead>\n",
       "    <tr style=\"text-align: right;\">\n",
       "      <th></th>\n",
       "      <th>raw</th>\n",
       "      <th>1</th>\n",
       "      <th>2</th>\n",
       "      <th>3</th>\n",
       "      <th>4</th>\n",
       "      <th>5</th>\n",
       "    </tr>\n",
       "  </thead>\n",
       "  <tbody>\n",
       "    <tr>\n",
       "      <th>squirrel</th>\n",
       "      <td>./Drawings/squirrel.jpeg</td>\n",
       "      <td>./Processed/squirrel/1.jpg</td>\n",
       "      <td>./Processed/squirrel/2.jpg</td>\n",
       "      <td>./Processed/squirrel/3.jpg</td>\n",
       "      <td>./Processed/squirrel/4.jpg</td>\n",
       "      <td>./Processed/squirrel/5.jpg</td>\n",
       "    </tr>\n",
       "    <tr>\n",
       "      <th>bird</th>\n",
       "      <td>./Drawings/bird.jpeg</td>\n",
       "      <td>./Processed/bird/1.jpg</td>\n",
       "      <td>./Processed/bird/2.jpg</td>\n",
       "      <td>./Processed/bird/3.jpg</td>\n",
       "      <td>./Processed/bird/4.jpg</td>\n",
       "      <td>./Processed/bird/5.jpg</td>\n",
       "    </tr>\n",
       "    <tr>\n",
       "      <th>elephant</th>\n",
       "      <td>./Drawings/elephant.jpeg</td>\n",
       "      <td>./Processed/elephant/1.jpg</td>\n",
       "      <td>./Processed/elephant/2.jpg</td>\n",
       "      <td>./Processed/elephant/3.jpg</td>\n",
       "      <td>./Processed/elephant/4.jpg</td>\n",
       "      <td>./Processed/elephant/5.jpg</td>\n",
       "    </tr>\n",
       "    <tr>\n",
       "      <th>eagle</th>\n",
       "      <td>./Drawings/eagle.jpeg</td>\n",
       "      <td>./Processed/eagle/1.jpg</td>\n",
       "      <td>./Processed/eagle/2.jpg</td>\n",
       "      <td>./Processed/eagle/3.jpg</td>\n",
       "      <td>./Processed/eagle/4.jpg</td>\n",
       "      <td>./Processed/eagle/5.jpg</td>\n",
       "    </tr>\n",
       "  </tbody>\n",
       "</table>\n",
       "</div>"
      ],
      "text/plain": [
       "                               raw                           1  \\\n",
       "squirrel  ./Drawings/squirrel.jpeg  ./Processed/squirrel/1.jpg   \n",
       "bird          ./Drawings/bird.jpeg      ./Processed/bird/1.jpg   \n",
       "elephant  ./Drawings/elephant.jpeg  ./Processed/elephant/1.jpg   \n",
       "eagle        ./Drawings/eagle.jpeg     ./Processed/eagle/1.jpg   \n",
       "\n",
       "                                   2                           3  \\\n",
       "squirrel  ./Processed/squirrel/2.jpg  ./Processed/squirrel/3.jpg   \n",
       "bird          ./Processed/bird/2.jpg      ./Processed/bird/3.jpg   \n",
       "elephant  ./Processed/elephant/2.jpg  ./Processed/elephant/3.jpg   \n",
       "eagle        ./Processed/eagle/2.jpg     ./Processed/eagle/3.jpg   \n",
       "\n",
       "                                   4                           5  \n",
       "squirrel  ./Processed/squirrel/4.jpg  ./Processed/squirrel/5.jpg  \n",
       "bird          ./Processed/bird/4.jpg      ./Processed/bird/5.jpg  \n",
       "elephant  ./Processed/elephant/4.jpg  ./Processed/elephant/5.jpg  \n",
       "eagle        ./Processed/eagle/4.jpg     ./Processed/eagle/5.jpg  "
      ]
     },
     "execution_count": 132,
     "metadata": {},
     "output_type": "execute_result"
    }
   ],
   "source": [
    "trackDf"
   ]
  },
  {
   "cell_type": "code",
   "execution_count": 133,
   "id": "03d0e5b4",
   "metadata": {},
   "outputs": [
    {
     "data": {
      "text/plain": [
       "{'squirrel': {'raw': './Drawings/squirrel.jpeg',\n",
       "  '1': './Processed/squirrel/1.jpg',\n",
       "  '2': './Processed/squirrel/2.jpg',\n",
       "  '3': './Processed/squirrel/3.jpg',\n",
       "  '4': './Processed/squirrel/4.jpg',\n",
       "  '5': './Processed/squirrel/5.jpg'},\n",
       " 'bird': {'raw': './Drawings/bird.jpeg',\n",
       "  '1': './Processed/bird/1.jpg',\n",
       "  '2': './Processed/bird/2.jpg',\n",
       "  '3': './Processed/bird/3.jpg',\n",
       "  '4': './Processed/bird/4.jpg',\n",
       "  '5': './Processed/bird/5.jpg'},\n",
       " 'elephant': {'raw': './Drawings/elephant.jpeg',\n",
       "  '1': './Processed/elephant/1.jpg',\n",
       "  '2': './Processed/elephant/2.jpg',\n",
       "  '3': './Processed/elephant/3.jpg',\n",
       "  '4': './Processed/elephant/4.jpg',\n",
       "  '5': './Processed/elephant/5.jpg'},\n",
       " 'eagle': {'raw': './Drawings/eagle.jpeg',\n",
       "  '1': './Processed/eagle/1.jpg',\n",
       "  '2': './Processed/eagle/2.jpg',\n",
       "  '3': './Processed/eagle/3.jpg',\n",
       "  '4': './Processed/eagle/4.jpg',\n",
       "  '5': './Processed/eagle/5.jpg'}}"
      ]
     },
     "execution_count": 133,
     "metadata": {},
     "output_type": "execute_result"
    }
   ],
   "source": [
    "fileTrack"
   ]
  },
  {
   "cell_type": "code",
   "execution_count": 169,
   "id": "c275210d",
   "metadata": {},
   "outputs": [],
   "source": [
    "def genPdf(name, df):\n",
    "    \n",
    "    \n",
    "    if df.loc[name].isnull().any():\n",
    "        \n",
    "        raise Exception(\"Need 5 Processed Drawing Files\")\n",
    "\n",
    "    pdf = FPDF() # Initializing object\n",
    "    pdf.add_page() # Adding new page\n",
    "\n",
    "\n",
    "    pdf.set_fill_color(200,0,0)\n",
    "    pdf.set_text_color(255,255,255)\n",
    "    pdf.set_font(\"Arial\", size=30, style='B')\n",
    "    pdf.set_xy(10,32)\n",
    "    pdf.cell(0, 12.5, txt= (name + ' Drawing Instructions').upper(), ln=1, align=\"C\" , fill = True)\n",
    "\n",
    "\n",
    "    w = 50\n",
    "    h = 50\n",
    "\n",
    "    start_y = 110\n",
    "    space = 15\n",
    "\n",
    "    pdf.image(df.loc[name]['raw'], x= 15, y= start_y, w=w, h=h)\n",
    "    pdf.image(df.loc[name]['1'], x= space * 2 + w, y= start_y, w=w, h=h)\n",
    "    pdf.image(df.loc[name]['2'], x= space * 3 + 2 * w, y= start_y, w=w, h=h)\n",
    "\n",
    "    pdf.image(df.loc[name]['3'], x=15, y= 2 * space + h + start_y, w=w, h=h)\n",
    "    pdf.image(df.loc[name]['4'], x= space * 2 + w, y= 2 * space + h + start_y, w=w, h=h)\n",
    "    pdf.image(df.loc[name]['5'], x= space * 3 + 2 * w, y= 2 * space + h + start_y, w=w, h=h)\n",
    "    \n",
    "    \n",
    "    outpath = \"./worksheets/\" + name + \".pdf\"\n",
    "    pdf.output(outpath)\n",
    "\n",
    "    \n",
    "    display(IFrame(outpath, width=200, height=200))\n",
    "    \n",
    "    \n",
    "    "
   ]
  },
  {
   "cell_type": "code",
   "execution_count": 200,
   "id": "c292d975",
   "metadata": {},
   "outputs": [
    {
     "ename": "RuntimeError",
     "evalue": "FPDF error: Unsupported image type: ",
     "output_type": "error",
     "traceback": [
      "\u001b[0;31m---------------------------------------------------------------------------\u001b[0m",
      "\u001b[0;31mRuntimeError\u001b[0m                              Traceback (most recent call last)",
      "Input \u001b[0;32mIn [200]\u001b[0m, in \u001b[0;36m<cell line: 1>\u001b[0;34m()\u001b[0m\n\u001b[0;32m----> 1\u001b[0m \u001b[43mgenPdf\u001b[49m\u001b[43m(\u001b[49m\u001b[38;5;124;43m\"\u001b[39;49m\u001b[38;5;124;43meagle\u001b[39;49m\u001b[38;5;124;43m\"\u001b[39;49m\u001b[43m,\u001b[49m\u001b[43m \u001b[49m\u001b[43mtrackDf\u001b[49m\u001b[43m)\u001b[49m\n",
      "Input \u001b[0;32mIn [169]\u001b[0m, in \u001b[0;36mgenPdf\u001b[0;34m(name, df)\u001b[0m\n\u001b[1;32m     23\u001b[0m space \u001b[38;5;241m=\u001b[39m \u001b[38;5;241m15\u001b[39m\n\u001b[1;32m     25\u001b[0m pdf\u001b[38;5;241m.\u001b[39mimage(df\u001b[38;5;241m.\u001b[39mloc[name][\u001b[38;5;124m'\u001b[39m\u001b[38;5;124mraw\u001b[39m\u001b[38;5;124m'\u001b[39m], x\u001b[38;5;241m=\u001b[39m \u001b[38;5;241m15\u001b[39m, y\u001b[38;5;241m=\u001b[39m start_y, w\u001b[38;5;241m=\u001b[39mw, h\u001b[38;5;241m=\u001b[39mh)\n\u001b[0;32m---> 26\u001b[0m \u001b[43mpdf\u001b[49m\u001b[38;5;241;43m.\u001b[39;49m\u001b[43mimage\u001b[49m\u001b[43m(\u001b[49m\u001b[43mdf\u001b[49m\u001b[38;5;241;43m.\u001b[39;49m\u001b[43mloc\u001b[49m\u001b[43m[\u001b[49m\u001b[43mname\u001b[49m\u001b[43m]\u001b[49m\u001b[43m[\u001b[49m\u001b[38;5;124;43m'\u001b[39;49m\u001b[38;5;124;43m1\u001b[39;49m\u001b[38;5;124;43m'\u001b[39;49m\u001b[43m]\u001b[49m\u001b[43m,\u001b[49m\u001b[43m \u001b[49m\u001b[43mx\u001b[49m\u001b[38;5;241;43m=\u001b[39;49m\u001b[43m \u001b[49m\u001b[43mspace\u001b[49m\u001b[43m \u001b[49m\u001b[38;5;241;43m*\u001b[39;49m\u001b[43m \u001b[49m\u001b[38;5;241;43m2\u001b[39;49m\u001b[43m \u001b[49m\u001b[38;5;241;43m+\u001b[39;49m\u001b[43m \u001b[49m\u001b[43mw\u001b[49m\u001b[43m,\u001b[49m\u001b[43m \u001b[49m\u001b[43my\u001b[49m\u001b[38;5;241;43m=\u001b[39;49m\u001b[43m \u001b[49m\u001b[43mstart_y\u001b[49m\u001b[43m,\u001b[49m\u001b[43m \u001b[49m\u001b[43mw\u001b[49m\u001b[38;5;241;43m=\u001b[39;49m\u001b[43mw\u001b[49m\u001b[43m,\u001b[49m\u001b[43m \u001b[49m\u001b[43mh\u001b[49m\u001b[38;5;241;43m=\u001b[39;49m\u001b[43mh\u001b[49m\u001b[43m)\u001b[49m\n\u001b[1;32m     27\u001b[0m pdf\u001b[38;5;241m.\u001b[39mimage(df\u001b[38;5;241m.\u001b[39mloc[name][\u001b[38;5;124m'\u001b[39m\u001b[38;5;124m2\u001b[39m\u001b[38;5;124m'\u001b[39m], x\u001b[38;5;241m=\u001b[39m space \u001b[38;5;241m*\u001b[39m \u001b[38;5;241m3\u001b[39m \u001b[38;5;241m+\u001b[39m \u001b[38;5;241m2\u001b[39m \u001b[38;5;241m*\u001b[39m w, y\u001b[38;5;241m=\u001b[39m start_y, w\u001b[38;5;241m=\u001b[39mw, h\u001b[38;5;241m=\u001b[39mh)\n\u001b[1;32m     29\u001b[0m pdf\u001b[38;5;241m.\u001b[39mimage(df\u001b[38;5;241m.\u001b[39mloc[name][\u001b[38;5;124m'\u001b[39m\u001b[38;5;124m3\u001b[39m\u001b[38;5;124m'\u001b[39m], x\u001b[38;5;241m=\u001b[39m\u001b[38;5;241m15\u001b[39m, y\u001b[38;5;241m=\u001b[39m \u001b[38;5;241m2\u001b[39m \u001b[38;5;241m*\u001b[39m space \u001b[38;5;241m+\u001b[39m h \u001b[38;5;241m+\u001b[39m start_y, w\u001b[38;5;241m=\u001b[39mw, h\u001b[38;5;241m=\u001b[39mh)\n",
      "File \u001b[0;32m~/opt/anaconda3/lib/python3.9/site-packages/fpdf/fpdf.py:150\u001b[0m, in \u001b[0;36mFPDF.check_page.<locals>.wrapper\u001b[0;34m(self, *args, **kwargs)\u001b[0m\n\u001b[1;32m    148\u001b[0m     \u001b[38;5;28mself\u001b[39m\u001b[38;5;241m.\u001b[39merror(\u001b[38;5;124m\"\u001b[39m\u001b[38;5;124mNo page open, you need to call add_page() first\u001b[39m\u001b[38;5;124m\"\u001b[39m)\n\u001b[1;32m    149\u001b[0m \u001b[38;5;28;01melse\u001b[39;00m:\n\u001b[0;32m--> 150\u001b[0m     \u001b[38;5;28;01mreturn\u001b[39;00m \u001b[43mfn\u001b[49m\u001b[43m(\u001b[49m\u001b[38;5;28;43mself\u001b[39;49m\u001b[43m,\u001b[49m\u001b[43m \u001b[49m\u001b[38;5;241;43m*\u001b[39;49m\u001b[43margs\u001b[49m\u001b[43m,\u001b[49m\u001b[43m \u001b[49m\u001b[38;5;241;43m*\u001b[39;49m\u001b[38;5;241;43m*\u001b[39;49m\u001b[43mkwargs\u001b[49m\u001b[43m)\u001b[49m\n",
      "File \u001b[0;32m~/opt/anaconda3/lib/python3.9/site-packages/fpdf/fpdf.py:990\u001b[0m, in \u001b[0;36mFPDF.image\u001b[0;34m(self, name, x, y, w, h, type, link)\u001b[0m\n\u001b[1;32m    988\u001b[0m     mtd\u001b[38;5;241m=\u001b[39m\u001b[38;5;124m'\u001b[39m\u001b[38;5;124m_parse\u001b[39m\u001b[38;5;124m'\u001b[39m\u001b[38;5;241m+\u001b[39m\u001b[38;5;28mtype\u001b[39m\n\u001b[1;32m    989\u001b[0m     \u001b[38;5;28;01mif\u001b[39;00m \u001b[38;5;129;01mnot\u001b[39;00m \u001b[38;5;28mhasattr\u001b[39m(\u001b[38;5;28mself\u001b[39m,mtd):\n\u001b[0;32m--> 990\u001b[0m         \u001b[38;5;28;43mself\u001b[39;49m\u001b[38;5;241;43m.\u001b[39;49m\u001b[43merror\u001b[49m\u001b[43m(\u001b[49m\u001b[38;5;124;43m'\u001b[39;49m\u001b[38;5;124;43mUnsupported image type: \u001b[39;49m\u001b[38;5;124;43m'\u001b[39;49m\u001b[38;5;241;43m+\u001b[39;49m\u001b[38;5;28;43mtype\u001b[39;49m\u001b[43m)\u001b[49m\n\u001b[1;32m    991\u001b[0m     info\u001b[38;5;241m=\u001b[39m\u001b[38;5;28mgetattr\u001b[39m(\u001b[38;5;28mself\u001b[39m, mtd)(name)\n\u001b[1;32m    992\u001b[0m mtd\u001b[38;5;241m=\u001b[39m\u001b[38;5;124m'\u001b[39m\u001b[38;5;124m_parse\u001b[39m\u001b[38;5;124m'\u001b[39m\u001b[38;5;241m+\u001b[39m\u001b[38;5;28mtype\u001b[39m\n",
      "File \u001b[0;32m~/opt/anaconda3/lib/python3.9/site-packages/fpdf/fpdf.py:227\u001b[0m, in \u001b[0;36mFPDF.error\u001b[0;34m(self, msg)\u001b[0m\n\u001b[1;32m    225\u001b[0m \u001b[38;5;28;01mdef\u001b[39;00m \u001b[38;5;21merror\u001b[39m(\u001b[38;5;28mself\u001b[39m, msg):\n\u001b[1;32m    226\u001b[0m     \u001b[38;5;124m\"\u001b[39m\u001b[38;5;124mFatal error\u001b[39m\u001b[38;5;124m\"\u001b[39m\n\u001b[0;32m--> 227\u001b[0m     \u001b[38;5;28;01mraise\u001b[39;00m \u001b[38;5;167;01mRuntimeError\u001b[39;00m(\u001b[38;5;124m'\u001b[39m\u001b[38;5;124mFPDF error: \u001b[39m\u001b[38;5;124m'\u001b[39m\u001b[38;5;241m+\u001b[39mmsg)\n",
      "\u001b[0;31mRuntimeError\u001b[0m: FPDF error: Unsupported image type: "
     ]
    }
   ],
   "source": [
    "genPdf(\"eagle\", trackDf)"
   ]
  },
  {
   "cell_type": "code",
   "execution_count": 206,
   "id": "f26240a1",
   "metadata": {},
   "outputs": [],
   "source": [
    "def comPipe():\n",
    "    \n",
    "    repo, frame = initiliazeTrackers()\n",
    "    \n",
    "    updateTracker(repo, frame)\n",
    "    \n",
    "    while True:\n",
    "        \n",
    "        name = input(\"What Animal? \")\n",
    "        name = name.lower()\n",
    "        \n",
    "        if name not in frame.index:\n",
    "            print(\"****\" + name + \" not in drawing repo, please select from the options above.\" + \"****\")\n",
    "        \n",
    "        else:\n",
    "            break\n",
    "    \n",
    "    \n",
    "    makeDrawFiles(name, repo, frame)\n",
    "    genPdf(name, frame)\n",
    "    "
   ]
  },
  {
   "cell_type": "code",
   "execution_count": 207,
   "id": "da043c5f",
   "metadata": {},
   "outputs": [
    {
     "name": "stdout",
     "output_type": "stream",
     "text": [
      "zebra\n",
      "squirrel\n",
      "bird\n",
      "pranay\n",
      "nikhil\n",
      "biden\n",
      "elephant\n",
      "eagle\n",
      "What Animal? eagle\n"
     ]
    },
    {
     "data": {
      "application/vnd.jupyter.widget-view+json": {
       "model_id": "ee3539836693470697d9b40fe1fa688a",
       "version_major": 2,
       "version_minor": 0
      },
      "text/plain": [
       "HBox(children=(Image(value=b'\\xff\\xd8\\xff\\xe0\\x00\\x10JFIF\\x00\\x01\\x01\\x00\\x00H\\x00H\\x00\\x00\\xff\\xe1\\x00LExif\\x…"
      ]
     },
     "metadata": {},
     "output_type": "display_data"
    },
    {
     "name": "stdout",
     "output_type": "stream",
     "text": [
      "Why Median Blur Val do you want to try? (Odd Only & >20)    31\n"
     ]
    },
    {
     "data": {
      "application/vnd.jupyter.widget-view+json": {
       "model_id": "bd16cfdedbc14f73b37748af46b68545",
       "version_major": 2,
       "version_minor": 0
      },
      "text/plain": [
       "HBox(children=(Image(value=b'\\xff\\xd8\\xff\\xe0\\x00\\x10JFIF\\x00\\x01\\x01\\x00\\x00H\\x00H\\x00\\x00\\xff\\xe1\\x00LExif\\x…"
      ]
     },
     "metadata": {},
     "output_type": "display_data"
    },
    {
     "name": "stdout",
     "output_type": "stream",
     "text": [
      "Are you satisfied? (t or f)t\n"
     ]
    },
    {
     "data": {
      "application/vnd.jupyter.widget-view+json": {
       "model_id": "bfff87086ffd48f5b2357ac8d7df81f3",
       "version_major": 2,
       "version_minor": 0
      },
      "text/plain": [
       "HBox(children=(Image(value=b'\\xff\\xd8\\xff\\xe0\\x00\\x10JFIF\\x00\\x01\\x01\\x00\\x00H\\x00H\\x00\\x00\\xff\\xe1\\x00LExif\\x…"
      ]
     },
     "metadata": {},
     "output_type": "display_data"
    },
    {
     "data": {
      "text/html": [
       "\n",
       "        <iframe\n",
       "            width=\"200\"\n",
       "            height=\"200\"\n",
       "            src=\"./worksheets/eagle.pdf\"\n",
       "            frameborder=\"0\"\n",
       "            allowfullscreen\n",
       "            \n",
       "        ></iframe>\n",
       "        "
      ],
      "text/plain": [
       "<IPython.lib.display.IFrame at 0x7fe75a839580>"
      ]
     },
     "metadata": {},
     "output_type": "display_data"
    }
   ],
   "source": [
    "comPipe()"
   ]
  },
  {
   "cell_type": "code",
   "execution_count": null,
   "id": "acccdf68",
   "metadata": {},
   "outputs": [],
   "source": []
  }
 ],
 "metadata": {
  "kernelspec": {
   "display_name": "Python 3 (ipykernel)",
   "language": "python",
   "name": "python3"
  },
  "language_info": {
   "codemirror_mode": {
    "name": "ipython",
    "version": 3
   },
   "file_extension": ".py",
   "mimetype": "text/x-python",
   "name": "python",
   "nbconvert_exporter": "python",
   "pygments_lexer": "ipython3",
   "version": "3.9.12"
  }
 },
 "nbformat": 4,
 "nbformat_minor": 5
}
