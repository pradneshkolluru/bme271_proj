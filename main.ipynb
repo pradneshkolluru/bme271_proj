{
 "cells": [
  {
   "cell_type": "code",
   "execution_count": 1,
   "id": "3370564b",
   "metadata": {},
   "outputs": [
    {
     "data": {
      "text/plain": [
       "'/Users/pradneshkolluru/Library/CloudStorage/OneDrive-DukeUniversity/Courses/BME271/bme271_proj'"
      ]
     },
     "execution_count": 1,
     "metadata": {},
     "output_type": "execute_result"
    }
   ],
   "source": [
    "pwd"
   ]
  },
  {
   "cell_type": "code",
   "execution_count": 125,
   "id": "97491ed5",
   "metadata": {},
   "outputs": [],
   "source": [
    "import glob\n",
    "import os\n",
    "import numpy as np\n",
    "import cv2 as cv\n",
    "import cv2 as cv2\n",
    "from matplotlib import pyplot as plt\n",
    "from IPython.display import Image as Image\n",
    "from IPython.display import display\n",
    "from IPython.display import clear_output\n",
    "import PIL\n",
    "import ipywidgets as widgets\n",
    "import pandas as pd"
   ]
  },
  {
   "cell_type": "code",
   "execution_count": 3,
   "id": "59c85cbe",
   "metadata": {},
   "outputs": [
    {
     "name": "stdout",
     "output_type": "stream",
     "text": [
      "BME271 Skeleton Code.ipynb  \u001b[34mProcessed\u001b[m\u001b[m/\r\n",
      "\u001b[34mDrawings\u001b[m\u001b[m/                   \u001b[31mmain.ipynb\u001b[m\u001b[m*\r\n"
     ]
    }
   ],
   "source": [
    "ls"
   ]
  },
  {
   "cell_type": "code",
   "execution_count": 4,
   "id": "7ce67852",
   "metadata": {},
   "outputs": [
    {
     "name": "stdout",
     "output_type": "stream",
     "text": [
      "squirrel\n",
      "bird\n",
      "elephant\n",
      "eagle\n"
     ]
    }
   ],
   "source": [
    "fileTrack = {}\n",
    "\n",
    "for filepath in glob.glob('./Drawings/*.jpeg'):\n",
    "    \n",
    "    name = filepath.split(\"/\")[-1].split(\".\")[0]\n",
    "    \n",
    "    fileTrack[name] = {'raw': filepath, '1': '', '2': '', '3': '', '4': '', '5': ''}\n",
    "    \n",
    "    print(name)"
   ]
  },
  {
   "cell_type": "code",
   "execution_count": 5,
   "id": "91639dfc",
   "metadata": {},
   "outputs": [
    {
     "data": {
      "text/plain": [
       "{'squirrel': {'raw': './Drawings/squirrel.jpeg',\n",
       "  '1': '',\n",
       "  '2': '',\n",
       "  '3': '',\n",
       "  '4': '',\n",
       "  '5': ''},\n",
       " 'bird': {'raw': './Drawings/bird.jpeg',\n",
       "  '1': '',\n",
       "  '2': '',\n",
       "  '3': '',\n",
       "  '4': '',\n",
       "  '5': ''},\n",
       " 'elephant': {'raw': './Drawings/elephant.jpeg',\n",
       "  '1': '',\n",
       "  '2': '',\n",
       "  '3': '',\n",
       "  '4': '',\n",
       "  '5': ''},\n",
       " 'eagle': {'raw': './Drawings/eagle.jpeg',\n",
       "  '1': '',\n",
       "  '2': '',\n",
       "  '3': '',\n",
       "  '4': '',\n",
       "  '5': ''}}"
      ]
     },
     "execution_count": 5,
     "metadata": {},
     "output_type": "execute_result"
    }
   ],
   "source": [
    "fileTrack"
   ]
  },
  {
   "cell_type": "code",
   "execution_count": 120,
   "id": "74800844",
   "metadata": {},
   "outputs": [],
   "source": [
    "\n",
    "def updateTracker(repo):\n",
    "\n",
    "    for name in repo:\n",
    "\n",
    "        processedPath = os.path.join(\"./Processed\", name)\n",
    "\n",
    "        if not os.path.exists(processedPath):\n",
    "            os.mkdir(processedPath)\n",
    "            print(\"Directory '%s' created\" %processedPath)\n",
    "            \n",
    "        else:\n",
    "            \n",
    "            for filepath in glob.glob(processedPath + '/*.jpg'):\n",
    "                \n",
    "                num = filepath.split(\"/\")[-1].split('.')[0]\n",
    "                repo[name][num] = filepath  \n",
    "    "
   ]
  },
  {
   "cell_type": "code",
   "execution_count": 121,
   "id": "a6ac5bcc",
   "metadata": {},
   "outputs": [],
   "source": [
    "updateTracker(fileTrack)"
   ]
  },
  {
   "cell_type": "code",
   "execution_count": 103,
   "id": "124b5e69",
   "metadata": {},
   "outputs": [],
   "source": [
    "def displayImArray(rawPath, path1 = None, path2 = None, path3 = None, path4 = None, path5 = None):\n",
    "    \n",
    "    \n",
    "    raw = open(rawPath,'rb').read()\n",
    "    \n",
    "    img1 = open(\"./empty.jpg\",'rb').read()\n",
    "    img2 = open(\"./empty.jpg\",'rb').read()\n",
    "    img3 = open(\"./empty.jpg\",'rb').read()\n",
    "    img4 = open(\"./empty.jpg\",'rb').read()\n",
    "    img5 = open(\"./empty.jpg\",'rb').read()\n",
    "    \n",
    "    \n",
    "    if path1:\n",
    "        \n",
    "        img1 = open(path1,'rb').read()\n",
    "        \n",
    "        if path2:\n",
    "            \n",
    "            img2 = open(path2,'rb').read()\n",
    "            \n",
    "            if path3:\n",
    "            \n",
    "                img3 = open(path3,'rb').read()\n",
    "                \n",
    "                if path4:\n",
    "            \n",
    "                    img4 = open(path4,'rb').read()\n",
    "                \n",
    "                    if path5:\n",
    "            \n",
    "                        img5 = open(path5,'rb').read()\n",
    "    \n",
    "    #Display Dimensions\n",
    "    w = 300\n",
    "    h = 400\n",
    "    \n",
    "    wi0 = widgets.Image(value=raw, format='jpg', width=w, height=h)\n",
    "    wi1 = widgets.Image(value=img1, format='jpg', width=w, height=h)\n",
    "    wi2 = widgets.Image(value=img2, format='jpg', width=w, height=h)\n",
    "    wi3 = widgets.Image(value=img3, format='jpg', width=w, height=h)\n",
    "    wi4 = widgets.Image(value=img4, format='jpg', width=w, height=h)\n",
    "    wi5 = widgets.Image(value=img5, format='jpg', width=w, height=h)\n",
    "    \n",
    "    \n",
    "    a=[wi0, wi1, wi2, wi3, wi4, wi5]\n",
    "    wid=widgets.HBox(a)\n",
    "    display(wid)\n",
    "    \n",
    "    \n",
    "def saveProcess(name, num, arr):\n",
    "    \n",
    "    im = PIL.Image.fromarray(arr)\n",
    "    \n",
    "    savePath = os.path.join(\"./Processed\", name, num + \".jpg\")\n",
    "    \n",
    "    im.save(savePath)\n",
    "    \n",
    "    return(savePath)"
   ]
  },
  {
   "cell_type": "code",
   "execution_count": 104,
   "id": "e21c528f",
   "metadata": {},
   "outputs": [],
   "source": [
    "\n",
    "def makeDrawFiles(name):\n",
    "    \n",
    "    rawPath = fileTrack[name]['raw']\n",
    "    \n",
    "    raw = cv.imread(rawPath,0)\n",
    "    img = cv.imread(rawPath,0)\n",
    "\n",
    "    \n",
    "    \n",
    "    while True:\n",
    "        \n",
    "        \n",
    "        displayImArray(rawPath)\n",
    "        \n",
    "        medVal = 0\n",
    "        \n",
    "        while True:\n",
    "            \n",
    "            medVal = int(input('Why Median Blur Val do you want to try? (Odd Only & >20)    '))\n",
    "            \n",
    "            if medVal % 2 == 1:\n",
    "                \n",
    "                break\n",
    "                \n",
    "        ###### Process 1\n",
    "        img_blur = cv2.medianBlur(img, medVal)\n",
    "        edges1 = cv.Canny(img_blur,1,100)\n",
    "        \n",
    "        p1 = 255 - edges1\n",
    "        \n",
    "        onePath = saveProcess(name, \"1\", p1)\n",
    "        \n",
    "        displayImArray(rawPath, onePath)\n",
    "        \n",
    "        \n",
    "        ###### Step 1 Validation\n",
    "        \n",
    "        satisfied = input(\"Are you satisfied? (t or f)\")\n",
    "        \n",
    "        if (satisfied == 'f'):\n",
    "            \n",
    "            clear_output()\n",
    "            continue\n",
    "        \n",
    "        \n",
    "        ###### Process 2\n",
    "        \n",
    "        img_blur2 = cv2.medianBlur(img, medVal - 20)\n",
    "        edges2 = cv.Canny(img_blur2,1,100)\n",
    "        \n",
    "        p2 = 255 - edges2\n",
    "        \n",
    "        twoPath = saveProcess(name, \"2\", p2)\n",
    "        \n",
    "        displayImArray(rawPath, onePath, twoPath)\n",
    "        \n",
    "        ###### Process 3\n",
    "        \n",
    "        img_blur3 = cv2.medianBlur(img, medVal + 40)\n",
    "        \n",
    "        img_blur3_2 = cv2.medianBlur(img, medVal - 20)\n",
    "        edges3 = cv.Canny(img_blur3_2, 1, 100)\n",
    "        edges3 = edges3 * 70\n",
    "        \n",
    "        p3 = (255 - edges3) + img_blur3\n",
    "        \n",
    "        threePath = saveProcess(name, \"3\", p3)\n",
    "        \n",
    "        displayImArray(rawPath, onePath, twoPath, threePath)\n",
    "        \n",
    "        ###### Process 4\n",
    "        \n",
    "        img_blur4 = cv2.medianBlur(img, medVal)\n",
    "        \n",
    "        img_blur4_2 = cv2.medianBlur(img, medVal - 20)\n",
    "        edges4 = cv.Canny(img_blur4_2, 1, 100)\n",
    "        edges4 = edges4 * 70\n",
    "        \n",
    "        p4 = (255 - edges4) + img_blur4\n",
    "        \n",
    "        fourPath = saveProcess(name, \"4\", p4)\n",
    "        \n",
    "        displayImArray(rawPath, onePath, twoPath, threePath, fourPath)\n",
    "        \n",
    "        ###### Process 5\n",
    "        \n",
    "        img_blur5 = cv2.medianBlur(img, 1)\n",
    "        \n",
    "        img_blur5_2 = cv2.medianBlur(img, medVal - 20)\n",
    "        edges5 = cv.Canny(img_blur5_2, 1, 100)\n",
    "        edges5 = edges5 * 70\n",
    "        \n",
    "        p5 = (255 - edges5) + img_blur5\n",
    "        \n",
    "        fivePath = saveProcess(name, \"5\", p5)\n",
    "        \n",
    "        displayImArray(rawPath, onePath, twoPath, threePath, fourPath, fivePath)\n",
    "        \n",
    "        \n",
    "        break\n",
    "        \n",
    "\n",
    "    \n",
    "    \n",
    "    \n",
    "    "
   ]
  },
  {
   "cell_type": "code",
   "execution_count": 122,
   "id": "fde6f864",
   "metadata": {},
   "outputs": [
    {
     "data": {
      "application/vnd.jupyter.widget-view+json": {
       "model_id": "2db343ee98074c66a1b0cea0576db158",
       "version_major": 2,
       "version_minor": 0
      },
      "text/plain": [
       "HBox(children=(Image(value=b'\\xff\\xd8\\xff\\xe0\\x00\\x10JFIF\\x00\\x01\\x01\\x00\\x00H\\x00H\\x00\\x00\\xff\\xe1\\x00LExif\\x…"
      ]
     },
     "metadata": {},
     "output_type": "display_data"
    },
    {
     "name": "stdout",
     "output_type": "stream",
     "text": [
      "Why Median Blur Val do you want to try? (Odd Only & >20)    31\n"
     ]
    },
    {
     "data": {
      "application/vnd.jupyter.widget-view+json": {
       "model_id": "f394b1f1c67446f19bfc66c9f2c1b2af",
       "version_major": 2,
       "version_minor": 0
      },
      "text/plain": [
       "HBox(children=(Image(value=b'\\xff\\xd8\\xff\\xe0\\x00\\x10JFIF\\x00\\x01\\x01\\x00\\x00H\\x00H\\x00\\x00\\xff\\xe1\\x00LExif\\x…"
      ]
     },
     "metadata": {},
     "output_type": "display_data"
    },
    {
     "name": "stdout",
     "output_type": "stream",
     "text": [
      "Are you satisfied? (t or f)t\n"
     ]
    },
    {
     "data": {
      "application/vnd.jupyter.widget-view+json": {
       "model_id": "545fa5cd6afc49c2be2555bfb5c76a47",
       "version_major": 2,
       "version_minor": 0
      },
      "text/plain": [
       "HBox(children=(Image(value=b'\\xff\\xd8\\xff\\xe0\\x00\\x10JFIF\\x00\\x01\\x01\\x00\\x00H\\x00H\\x00\\x00\\xff\\xe1\\x00LExif\\x…"
      ]
     },
     "metadata": {},
     "output_type": "display_data"
    },
    {
     "data": {
      "application/vnd.jupyter.widget-view+json": {
       "model_id": "dba2bd4cb6c94e4594eeaac5fe597bcb",
       "version_major": 2,
       "version_minor": 0
      },
      "text/plain": [
       "HBox(children=(Image(value=b'\\xff\\xd8\\xff\\xe0\\x00\\x10JFIF\\x00\\x01\\x01\\x00\\x00H\\x00H\\x00\\x00\\xff\\xe1\\x00LExif\\x…"
      ]
     },
     "metadata": {},
     "output_type": "display_data"
    },
    {
     "data": {
      "application/vnd.jupyter.widget-view+json": {
       "model_id": "112434b271b54943bf40709000419e3c",
       "version_major": 2,
       "version_minor": 0
      },
      "text/plain": [
       "HBox(children=(Image(value=b'\\xff\\xd8\\xff\\xe0\\x00\\x10JFIF\\x00\\x01\\x01\\x00\\x00H\\x00H\\x00\\x00\\xff\\xe1\\x00LExif\\x…"
      ]
     },
     "metadata": {},
     "output_type": "display_data"
    },
    {
     "data": {
      "application/vnd.jupyter.widget-view+json": {
       "model_id": "571479d883664a9f81a6e20c53dc37c0",
       "version_major": 2,
       "version_minor": 0
      },
      "text/plain": [
       "HBox(children=(Image(value=b'\\xff\\xd8\\xff\\xe0\\x00\\x10JFIF\\x00\\x01\\x01\\x00\\x00H\\x00H\\x00\\x00\\xff\\xe1\\x00LExif\\x…"
      ]
     },
     "metadata": {},
     "output_type": "display_data"
    }
   ],
   "source": [
    "makeDrawFiles(\"eagle\")\n",
    "updateTracker(fileTrack)"
   ]
  },
  {
   "cell_type": "code",
   "execution_count": 123,
   "id": "c867cd21",
   "metadata": {},
   "outputs": [
    {
     "data": {
      "text/plain": [
       "{'squirrel': {'raw': './Drawings/squirrel.jpeg',\n",
       "  '1': '',\n",
       "  '2': '',\n",
       "  '3': '',\n",
       "  '4': '',\n",
       "  '5': ''},\n",
       " 'bird': {'raw': './Drawings/bird.jpeg',\n",
       "  '1': '',\n",
       "  '2': '',\n",
       "  '3': '',\n",
       "  '4': '',\n",
       "  '5': ''},\n",
       " 'elephant': {'raw': './Drawings/elephant.jpeg',\n",
       "  '1': './Processed/elephant/1.jpg',\n",
       "  '2': './Processed/elephant/2.jpg',\n",
       "  '3': './Processed/elephant/3.jpg',\n",
       "  '4': '',\n",
       "  '5': ''},\n",
       " 'eagle': {'raw': './Drawings/eagle.jpeg',\n",
       "  '1': './Processed/eagle/1.jpg',\n",
       "  '2': './Processed/eagle/2.jpg',\n",
       "  '3': './Processed/eagle/3.jpg',\n",
       "  '4': './Processed/eagle/4.jpg',\n",
       "  '5': './Processed/eagle/5.jpg'}}"
      ]
     },
     "execution_count": 123,
     "metadata": {},
     "output_type": "execute_result"
    }
   ],
   "source": [
    "fileTrack"
   ]
  },
  {
   "cell_type": "code",
   "execution_count": 142,
   "id": "a10222ad",
   "metadata": {},
   "outputs": [
    {
     "data": {
      "text/html": [
       "<div>\n",
       "<style scoped>\n",
       "    .dataframe tbody tr th:only-of-type {\n",
       "        vertical-align: middle;\n",
       "    }\n",
       "\n",
       "    .dataframe tbody tr th {\n",
       "        vertical-align: top;\n",
       "    }\n",
       "\n",
       "    .dataframe thead th {\n",
       "        text-align: right;\n",
       "    }\n",
       "</style>\n",
       "<table border=\"1\" class=\"dataframe\">\n",
       "  <thead>\n",
       "    <tr style=\"text-align: right;\">\n",
       "      <th></th>\n",
       "      <th>raw</th>\n",
       "      <th>1</th>\n",
       "      <th>2</th>\n",
       "      <th>3</th>\n",
       "      <th>4</th>\n",
       "      <th>5</th>\n",
       "    </tr>\n",
       "  </thead>\n",
       "  <tbody>\n",
       "    <tr>\n",
       "      <th>squirrel</th>\n",
       "      <td>./Drawings/squirrel.jpeg</td>\n",
       "      <td></td>\n",
       "      <td></td>\n",
       "      <td></td>\n",
       "      <td></td>\n",
       "      <td></td>\n",
       "    </tr>\n",
       "    <tr>\n",
       "      <th>bird</th>\n",
       "      <td>./Drawings/bird.jpeg</td>\n",
       "      <td></td>\n",
       "      <td></td>\n",
       "      <td></td>\n",
       "      <td></td>\n",
       "      <td></td>\n",
       "    </tr>\n",
       "    <tr>\n",
       "      <th>elephant</th>\n",
       "      <td>./Drawings/elephant.jpeg</td>\n",
       "      <td>./Processed/elephant/1.jpg</td>\n",
       "      <td>./Processed/elephant/2.jpg</td>\n",
       "      <td>./Processed/elephant/3.jpg</td>\n",
       "      <td></td>\n",
       "      <td></td>\n",
       "    </tr>\n",
       "    <tr>\n",
       "      <th>eagle</th>\n",
       "      <td>./Drawings/eagle.jpeg</td>\n",
       "      <td>./Processed/eagle/1.jpg</td>\n",
       "      <td>./Processed/eagle/2.jpg</td>\n",
       "      <td>./Processed/eagle/3.jpg</td>\n",
       "      <td>./Processed/eagle/4.jpg</td>\n",
       "      <td>./Processed/eagle/5.jpg</td>\n",
       "    </tr>\n",
       "  </tbody>\n",
       "</table>\n",
       "</div>"
      ],
      "text/plain": [
       "                               raw                           1  \\\n",
       "squirrel  ./Drawings/squirrel.jpeg                               \n",
       "bird          ./Drawings/bird.jpeg                               \n",
       "elephant  ./Drawings/elephant.jpeg  ./Processed/elephant/1.jpg   \n",
       "eagle        ./Drawings/eagle.jpeg     ./Processed/eagle/1.jpg   \n",
       "\n",
       "                                   2                           3  \\\n",
       "squirrel                                                           \n",
       "bird                                                               \n",
       "elephant  ./Processed/elephant/2.jpg  ./Processed/elephant/3.jpg   \n",
       "eagle        ./Processed/eagle/2.jpg     ./Processed/eagle/3.jpg   \n",
       "\n",
       "                                4                        5  \n",
       "squirrel                                                    \n",
       "bird                                                        \n",
       "elephant                                                    \n",
       "eagle     ./Processed/eagle/4.jpg  ./Processed/eagle/5.jpg  "
      ]
     },
     "execution_count": 142,
     "metadata": {},
     "output_type": "execute_result"
    }
   ],
   "source": [
    "trackDf = pd.DataFrame.from_dict(fileTrack, orient='index')\n",
    "trackDf"
   ]
  },
  {
   "cell_type": "code",
   "execution_count": 144,
   "id": "bd79aafc",
   "metadata": {},
   "outputs": [],
   "source": [
    "trackDf.to_csv(\"./tracker.csv\")"
   ]
  },
  {
   "cell_type": "code",
   "execution_count": null,
   "id": "c275210d",
   "metadata": {},
   "outputs": [],
   "source": []
  }
 ],
 "metadata": {
  "kernelspec": {
   "display_name": "Python 3 (ipykernel)",
   "language": "python",
   "name": "python3"
  },
  "language_info": {
   "codemirror_mode": {
    "name": "ipython",
    "version": 3
   },
   "file_extension": ".py",
   "mimetype": "text/x-python",
   "name": "python",
   "nbconvert_exporter": "python",
   "pygments_lexer": "ipython3",
   "version": "3.9.12"
  }
 },
 "nbformat": 4,
 "nbformat_minor": 5
}
