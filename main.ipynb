{
 "cells": [
  {
   "cell_type": "markdown",
   "id": "ae28af27",
   "metadata": {},
   "source": [
    "# EZ - Draw Code\n",
    "\n",
    "##### BME 271 Final Project - Fall '22 - Dr. Bucholz\n",
    "\n",
    "Video: https://www.youtube.com/watch?v=NcKfeD3WEDk&feature=youtu.be\n",
    "\n",
    "Git Repo: https://github.com/pradneshkolluru/bme271_proj\n",
    "\n",
    "Project is dedicated to all the students, both old and young, struggling in drawing class!\n",
    "\n",
    "By: Ashwin Gadiraju, Sarah Goddard, Pradnesh Kolluru"
   ]
  },
  {
   "cell_type": "markdown",
   "id": "ff45f127",
   "metadata": {},
   "source": [
    "## Home Directory"
   ]
  },
  {
   "cell_type": "code",
   "execution_count": 1,
   "id": "1b6c6ad3",
   "metadata": {},
   "outputs": [
    {
     "data": {
      "text/plain": [
       "'/Users/pradneshkolluru/Library/CloudStorage/OneDrive-DukeUniversity/Courses/BME271/bme271_proj'"
      ]
     },
     "execution_count": 1,
     "metadata": {},
     "output_type": "execute_result"
    }
   ],
   "source": [
    "pwd"
   ]
  },
  {
   "cell_type": "code",
   "execution_count": 2,
   "id": "dabd8c7d",
   "metadata": {},
   "outputs": [
    {
     "name": "stdout",
     "output_type": "stream",
     "text": [
      "\u001b[34mDrawings\u001b[m\u001b[m/    \u001b[34mProcessed\u001b[m\u001b[m/   empty.jpg    \u001b[31mmain.ipynb\u001b[m\u001b[m*  tracker.csv  \u001b[34mworksheets\u001b[m\u001b[m/\r\n"
     ]
    }
   ],
   "source": [
    "ls #directory structure"
   ]
  },
  {
   "cell_type": "markdown",
   "id": "113358fd",
   "metadata": {},
   "source": [
    "## Load Libraries\n"
   ]
  },
  {
   "cell_type": "code",
   "execution_count": 3,
   "id": "97491ed5",
   "metadata": {},
   "outputs": [],
   "source": [
    "import glob\n",
    "import os\n",
    "import numpy as np\n",
    "import cv2 as cv\n",
    "import cv2 as cv2\n",
    "from matplotlib import pyplot as plt\n",
    "from IPython.display import Image as Image\n",
    "from IPython.display import display\n",
    "from IPython.display import clear_output\n",
    "import PIL #image processing\n",
    "import ipywidgets as widgets #displaying intermediary steps\n",
    "import pandas as pd\n",
    "from fpdf import FPDF #generate pdfs\n",
    "\n",
    "from IPython.display import IFrame  #displaying intermediary steps\n"
   ]
  },
  {
   "cell_type": "markdown",
   "id": "1386d047",
   "metadata": {},
   "source": [
    "## Registering and Tracking Files\n",
    "\n",
    "Keep track of raw input files and processed intermediary image file paths within a pandas dataframe and dictionary"
   ]
  },
  {
   "cell_type": "code",
   "execution_count": 4,
   "id": "8c80c129",
   "metadata": {},
   "outputs": [],
   "source": [
    "def initiliazeTrackers():\n",
    "    \n",
    "    '''\n",
    "    Create a data frame and dictionary to track files. For Index rown, read names from raw input files\n",
    "    \n",
    "    '''\n",
    "    \n",
    "    dictTrack = {}\n",
    "\n",
    "    for filepath in glob.glob('./Drawings/*.jpeg'):\n",
    "\n",
    "        name = filepath.split(\"/\")[-1].split(\".\")[0]\n",
    "\n",
    "        dictTrack[name] = {'raw': filepath, '1': '', '2': '', '3': '', '4': '', '5': ''}\n",
    "\n",
    "\n",
    "    frameTrack = pd.DataFrame.from_dict(dictTrack, orient='index')\n",
    "    \n",
    "    return (dictTrack, frameTrack)\n",
    "\n"
   ]
  },
  {
   "cell_type": "code",
   "execution_count": 5,
   "id": "746c0915",
   "metadata": {},
   "outputs": [],
   "source": [
    "fileTrack, trackDf = initiliazeTrackers()"
   ]
  },
  {
   "cell_type": "code",
   "execution_count": 6,
   "id": "5c018a77",
   "metadata": {},
   "outputs": [
    {
     "data": {
      "text/plain": [
       "{'zebra': {'raw': './Drawings/zebra.jpeg',\n",
       "  '1': '',\n",
       "  '2': '',\n",
       "  '3': '',\n",
       "  '4': '',\n",
       "  '5': ''},\n",
       " 'squirrel': {'raw': './Drawings/squirrel.jpeg',\n",
       "  '1': '',\n",
       "  '2': '',\n",
       "  '3': '',\n",
       "  '4': '',\n",
       "  '5': ''},\n",
       " 'bird': {'raw': './Drawings/bird.jpeg',\n",
       "  '1': '',\n",
       "  '2': '',\n",
       "  '3': '',\n",
       "  '4': '',\n",
       "  '5': ''},\n",
       " 'elephant': {'raw': './Drawings/elephant.jpeg',\n",
       "  '1': '',\n",
       "  '2': '',\n",
       "  '3': '',\n",
       "  '4': '',\n",
       "  '5': ''},\n",
       " 'eagle': {'raw': './Drawings/eagle.jpeg',\n",
       "  '1': '',\n",
       "  '2': '',\n",
       "  '3': '',\n",
       "  '4': '',\n",
       "  '5': ''}}"
      ]
     },
     "execution_count": 6,
     "metadata": {},
     "output_type": "execute_result"
    }
   ],
   "source": [
    "fileTrack"
   ]
  },
  {
   "cell_type": "code",
   "execution_count": 7,
   "id": "91639dfc",
   "metadata": {},
   "outputs": [
    {
     "data": {
      "text/html": [
       "<div>\n",
       "<style scoped>\n",
       "    .dataframe tbody tr th:only-of-type {\n",
       "        vertical-align: middle;\n",
       "    }\n",
       "\n",
       "    .dataframe tbody tr th {\n",
       "        vertical-align: top;\n",
       "    }\n",
       "\n",
       "    .dataframe thead th {\n",
       "        text-align: right;\n",
       "    }\n",
       "</style>\n",
       "<table border=\"1\" class=\"dataframe\">\n",
       "  <thead>\n",
       "    <tr style=\"text-align: right;\">\n",
       "      <th></th>\n",
       "      <th>raw</th>\n",
       "      <th>1</th>\n",
       "      <th>2</th>\n",
       "      <th>3</th>\n",
       "      <th>4</th>\n",
       "      <th>5</th>\n",
       "    </tr>\n",
       "  </thead>\n",
       "  <tbody>\n",
       "    <tr>\n",
       "      <th>zebra</th>\n",
       "      <td>./Drawings/zebra.jpeg</td>\n",
       "      <td></td>\n",
       "      <td></td>\n",
       "      <td></td>\n",
       "      <td></td>\n",
       "      <td></td>\n",
       "    </tr>\n",
       "    <tr>\n",
       "      <th>squirrel</th>\n",
       "      <td>./Drawings/squirrel.jpeg</td>\n",
       "      <td></td>\n",
       "      <td></td>\n",
       "      <td></td>\n",
       "      <td></td>\n",
       "      <td></td>\n",
       "    </tr>\n",
       "    <tr>\n",
       "      <th>bird</th>\n",
       "      <td>./Drawings/bird.jpeg</td>\n",
       "      <td></td>\n",
       "      <td></td>\n",
       "      <td></td>\n",
       "      <td></td>\n",
       "      <td></td>\n",
       "    </tr>\n",
       "    <tr>\n",
       "      <th>elephant</th>\n",
       "      <td>./Drawings/elephant.jpeg</td>\n",
       "      <td></td>\n",
       "      <td></td>\n",
       "      <td></td>\n",
       "      <td></td>\n",
       "      <td></td>\n",
       "    </tr>\n",
       "    <tr>\n",
       "      <th>eagle</th>\n",
       "      <td>./Drawings/eagle.jpeg</td>\n",
       "      <td></td>\n",
       "      <td></td>\n",
       "      <td></td>\n",
       "      <td></td>\n",
       "      <td></td>\n",
       "    </tr>\n",
       "  </tbody>\n",
       "</table>\n",
       "</div>"
      ],
      "text/plain": [
       "                               raw 1 2 3 4 5\n",
       "zebra        ./Drawings/zebra.jpeg          \n",
       "squirrel  ./Drawings/squirrel.jpeg          \n",
       "bird          ./Drawings/bird.jpeg          \n",
       "elephant  ./Drawings/elephant.jpeg          \n",
       "eagle        ./Drawings/eagle.jpeg          "
      ]
     },
     "execution_count": 7,
     "metadata": {},
     "output_type": "execute_result"
    }
   ],
   "source": [
    "trackDf"
   ]
  },
  {
   "cell_type": "code",
   "execution_count": 8,
   "id": "74800844",
   "metadata": {},
   "outputs": [],
   "source": [
    "\n",
    "def updateTracker(repo, frame):\n",
    "    \n",
    "    '''\n",
    "    Every time a new image is created or processed, the tracker dataframes and dictionary\n",
    "    will be updated with assosciated filepaths. Initially populates tracker structures\n",
    "    when starting program\n",
    "    '''\n",
    "\n",
    "    for name in repo:\n",
    "        \n",
    "        print(name)\n",
    "\n",
    "        processedPath = os.path.join(\"./Processed\", name)\n",
    "\n",
    "        if not os.path.exists(processedPath):\n",
    "            os.mkdir(processedPath)\n",
    "            #print(\"Directory '%s' created\" %processedPath)\n",
    "            \n",
    "        else:\n",
    "            \n",
    "            for filepath in glob.glob(processedPath + '/*.jpg'):\n",
    "                \n",
    "                num = filepath.split(\"/\")[-1].split('.')[0]\n",
    "                repo[name][num] = filepath\n",
    "                \n",
    "                frame.loc[name][num] = filepath\n",
    "                \n",
    "    frame.to_csv(\"./tracker.csv\")"
   ]
  },
  {
   "cell_type": "code",
   "execution_count": 9,
   "id": "a6ac5bcc",
   "metadata": {},
   "outputs": [
    {
     "name": "stdout",
     "output_type": "stream",
     "text": [
      "zebra\n",
      "squirrel\n",
      "bird\n",
      "elephant\n",
      "eagle\n"
     ]
    }
   ],
   "source": [
    "updateTracker(fileTrack, trackDf)"
   ]
  },
  {
   "cell_type": "code",
   "execution_count": 10,
   "id": "5f9a7cba",
   "metadata": {},
   "outputs": [
    {
     "data": {
      "text/plain": [
       "{'zebra': {'raw': './Drawings/zebra.jpeg',\n",
       "  '1': './Processed/zebra/1.jpg',\n",
       "  '2': './Processed/zebra/2.jpg',\n",
       "  '3': './Processed/zebra/3.jpg',\n",
       "  '4': './Processed/zebra/4.jpg',\n",
       "  '5': './Processed/zebra/5.jpg'},\n",
       " 'squirrel': {'raw': './Drawings/squirrel.jpeg',\n",
       "  '1': './Processed/squirrel/1.jpg',\n",
       "  '2': './Processed/squirrel/2.jpg',\n",
       "  '3': './Processed/squirrel/3.jpg',\n",
       "  '4': './Processed/squirrel/4.jpg',\n",
       "  '5': './Processed/squirrel/5.jpg'},\n",
       " 'bird': {'raw': './Drawings/bird.jpeg',\n",
       "  '1': './Processed/bird/1.jpg',\n",
       "  '2': './Processed/bird/2.jpg',\n",
       "  '3': './Processed/bird/3.jpg',\n",
       "  '4': './Processed/bird/4.jpg',\n",
       "  '5': './Processed/bird/5.jpg'},\n",
       " 'elephant': {'raw': './Drawings/elephant.jpeg',\n",
       "  '1': './Processed/elephant/1.jpg',\n",
       "  '2': './Processed/elephant/2.jpg',\n",
       "  '3': './Processed/elephant/3.jpg',\n",
       "  '4': './Processed/elephant/4.jpg',\n",
       "  '5': './Processed/elephant/5.jpg'},\n",
       " 'eagle': {'raw': './Drawings/eagle.jpeg',\n",
       "  '1': './Processed/eagle/1.jpg',\n",
       "  '2': './Processed/eagle/2.jpg',\n",
       "  '3': './Processed/eagle/3.jpg',\n",
       "  '4': './Processed/eagle/4.jpg',\n",
       "  '5': './Processed/eagle/5.jpg'}}"
      ]
     },
     "execution_count": 10,
     "metadata": {},
     "output_type": "execute_result"
    }
   ],
   "source": [
    "fileTrack"
   ]
  },
  {
   "cell_type": "code",
   "execution_count": 11,
   "id": "a2166489",
   "metadata": {},
   "outputs": [
    {
     "data": {
      "text/html": [
       "<div>\n",
       "<style scoped>\n",
       "    .dataframe tbody tr th:only-of-type {\n",
       "        vertical-align: middle;\n",
       "    }\n",
       "\n",
       "    .dataframe tbody tr th {\n",
       "        vertical-align: top;\n",
       "    }\n",
       "\n",
       "    .dataframe thead th {\n",
       "        text-align: right;\n",
       "    }\n",
       "</style>\n",
       "<table border=\"1\" class=\"dataframe\">\n",
       "  <thead>\n",
       "    <tr style=\"text-align: right;\">\n",
       "      <th></th>\n",
       "      <th>raw</th>\n",
       "      <th>1</th>\n",
       "      <th>2</th>\n",
       "      <th>3</th>\n",
       "      <th>4</th>\n",
       "      <th>5</th>\n",
       "    </tr>\n",
       "  </thead>\n",
       "  <tbody>\n",
       "    <tr>\n",
       "      <th>zebra</th>\n",
       "      <td>./Drawings/zebra.jpeg</td>\n",
       "      <td>./Processed/zebra/1.jpg</td>\n",
       "      <td>./Processed/zebra/2.jpg</td>\n",
       "      <td>./Processed/zebra/3.jpg</td>\n",
       "      <td>./Processed/zebra/4.jpg</td>\n",
       "      <td>./Processed/zebra/5.jpg</td>\n",
       "    </tr>\n",
       "    <tr>\n",
       "      <th>squirrel</th>\n",
       "      <td>./Drawings/squirrel.jpeg</td>\n",
       "      <td>./Processed/squirrel/1.jpg</td>\n",
       "      <td>./Processed/squirrel/2.jpg</td>\n",
       "      <td>./Processed/squirrel/3.jpg</td>\n",
       "      <td>./Processed/squirrel/4.jpg</td>\n",
       "      <td>./Processed/squirrel/5.jpg</td>\n",
       "    </tr>\n",
       "    <tr>\n",
       "      <th>bird</th>\n",
       "      <td>./Drawings/bird.jpeg</td>\n",
       "      <td>./Processed/bird/1.jpg</td>\n",
       "      <td>./Processed/bird/2.jpg</td>\n",
       "      <td>./Processed/bird/3.jpg</td>\n",
       "      <td>./Processed/bird/4.jpg</td>\n",
       "      <td>./Processed/bird/5.jpg</td>\n",
       "    </tr>\n",
       "    <tr>\n",
       "      <th>elephant</th>\n",
       "      <td>./Drawings/elephant.jpeg</td>\n",
       "      <td>./Processed/elephant/1.jpg</td>\n",
       "      <td>./Processed/elephant/2.jpg</td>\n",
       "      <td>./Processed/elephant/3.jpg</td>\n",
       "      <td>./Processed/elephant/4.jpg</td>\n",
       "      <td>./Processed/elephant/5.jpg</td>\n",
       "    </tr>\n",
       "    <tr>\n",
       "      <th>eagle</th>\n",
       "      <td>./Drawings/eagle.jpeg</td>\n",
       "      <td>./Processed/eagle/1.jpg</td>\n",
       "      <td>./Processed/eagle/2.jpg</td>\n",
       "      <td>./Processed/eagle/3.jpg</td>\n",
       "      <td>./Processed/eagle/4.jpg</td>\n",
       "      <td>./Processed/eagle/5.jpg</td>\n",
       "    </tr>\n",
       "  </tbody>\n",
       "</table>\n",
       "</div>"
      ],
      "text/plain": [
       "                               raw                           1  \\\n",
       "zebra        ./Drawings/zebra.jpeg     ./Processed/zebra/1.jpg   \n",
       "squirrel  ./Drawings/squirrel.jpeg  ./Processed/squirrel/1.jpg   \n",
       "bird          ./Drawings/bird.jpeg      ./Processed/bird/1.jpg   \n",
       "elephant  ./Drawings/elephant.jpeg  ./Processed/elephant/1.jpg   \n",
       "eagle        ./Drawings/eagle.jpeg     ./Processed/eagle/1.jpg   \n",
       "\n",
       "                                   2                           3  \\\n",
       "zebra        ./Processed/zebra/2.jpg     ./Processed/zebra/3.jpg   \n",
       "squirrel  ./Processed/squirrel/2.jpg  ./Processed/squirrel/3.jpg   \n",
       "bird          ./Processed/bird/2.jpg      ./Processed/bird/3.jpg   \n",
       "elephant  ./Processed/elephant/2.jpg  ./Processed/elephant/3.jpg   \n",
       "eagle        ./Processed/eagle/2.jpg     ./Processed/eagle/3.jpg   \n",
       "\n",
       "                                   4                           5  \n",
       "zebra        ./Processed/zebra/4.jpg     ./Processed/zebra/5.jpg  \n",
       "squirrel  ./Processed/squirrel/4.jpg  ./Processed/squirrel/5.jpg  \n",
       "bird          ./Processed/bird/4.jpg      ./Processed/bird/5.jpg  \n",
       "elephant  ./Processed/elephant/4.jpg  ./Processed/elephant/5.jpg  \n",
       "eagle        ./Processed/eagle/4.jpg     ./Processed/eagle/5.jpg  "
      ]
     },
     "execution_count": 11,
     "metadata": {},
     "output_type": "execute_result"
    }
   ],
   "source": [
    "trackDf"
   ]
  },
  {
   "cell_type": "markdown",
   "id": "8dbded2f",
   "metadata": {},
   "source": [
    "# Generate Intermediary Drawing Images"
   ]
  },
  {
   "cell_type": "code",
   "execution_count": 12,
   "id": "124b5e69",
   "metadata": {},
   "outputs": [],
   "source": [
    "def displayImArray(rawPath, path1 = None, path2 = None, path3 = None, path4 = None, path5 = None):\n",
    "    \n",
    "    '''\n",
    "    Displays raw and generated process images with in python notebook as widgets\n",
    "    \n",
    "    '''\n",
    "    \n",
    "    raw = open(rawPath,'rb').read()\n",
    "    \n",
    "    img1 = open(\"./empty.jpg\",'rb').read()\n",
    "    img2 = open(\"./empty.jpg\",'rb').read()\n",
    "    img3 = open(\"./empty.jpg\",'rb').read()\n",
    "    img4 = open(\"./empty.jpg\",'rb').read()\n",
    "    img5 = open(\"./empty.jpg\",'rb').read()\n",
    "    \n",
    "    \n",
    "    if path1:\n",
    "        \n",
    "        img1 = open(path1,'rb').read()\n",
    "        \n",
    "        if path2:\n",
    "            \n",
    "            img2 = open(path2,'rb').read()\n",
    "            \n",
    "            if path3:\n",
    "            \n",
    "                img3 = open(path3,'rb').read()\n",
    "                \n",
    "                if path4:\n",
    "            \n",
    "                    img4 = open(path4,'rb').read()\n",
    "                \n",
    "                    if path5:\n",
    "            \n",
    "                        img5 = open(path5,'rb').read()\n",
    "    \n",
    "    #Display Dimensions\n",
    "    w = 300\n",
    "    h = 400\n",
    "    \n",
    "    wi0 = widgets.Image(value=raw, format='jpg', width=w, height=h)\n",
    "    wi1 = widgets.Image(value=img1, format='jpg', width=w, height=h)\n",
    "    wi2 = widgets.Image(value=img2, format='jpg', width=w, height=h)\n",
    "    wi3 = widgets.Image(value=img3, format='jpg', width=w, height=h)\n",
    "    wi4 = widgets.Image(value=img4, format='jpg', width=w, height=h)\n",
    "    wi5 = widgets.Image(value=img5, format='jpg', width=w, height=h)\n",
    "    \n",
    "    \n",
    "    a=[wi0, wi1, wi2, wi3, wi4, wi5]\n",
    "    wid=widgets.HBox(a)\n",
    "    display(wid)\n",
    "    \n",
    "    \n",
    "def saveProcess(name, num, arr):\n",
    "    \n",
    "    '''\n",
    "    Save processed files in correct directory according to raw name, and process num\n",
    "    '''\n",
    "    \n",
    "    im = PIL.Image.fromarray(arr)\n",
    "    \n",
    "    savePath = os.path.join(\"./Processed\", name, num + \".jpg\")\n",
    "    \n",
    "    im.save(savePath)\n",
    "    \n",
    "    return(savePath)\n",
    "\n",
    "            \n",
    "def findProp(num, prop):\n",
    "    \n",
    "    '''\n",
    "    Custom multiplacation function that completes multi operation and returns closes odd int\n",
    "    '''\n",
    "    \n",
    "    div = num // (1 / prop)\n",
    "    \n",
    "    div = int(div)\n",
    "    \n",
    "    if div % 2 == 0:\n",
    "        \n",
    "        return div + 1\n",
    "    \n",
    "    else:\n",
    "        return div\n",
    "    \n",
    "    \n",
    "def getComplexVal(idx):\n",
    "    \n",
    "    '''\n",
    "    Translates user input complexity val into median blur value\n",
    "    '''\n",
    "    \n",
    "    hardVals = np.linspace(1, 10, 10)\n",
    "    medVals = np.arange(21, 41, 2)\n",
    "    \n",
    "    medVals = medVals[::-1]\n",
    "    \n",
    "    verbose = False\n",
    "    \n",
    "    if verbose:\n",
    "        print(hardVals)\n",
    "        print(medVals)\n",
    "        print(len(hardVals) == len(medVals))\n",
    "        \n",
    "    return(int(medVals[idx - 1]))\n",
    "    "
   ]
  },
  {
   "cell_type": "code",
   "execution_count": 13,
   "id": "e21c528f",
   "metadata": {},
   "outputs": [],
   "source": [
    "\n",
    "def makeDrawFiles(name, dictTrack, frameTrack):\n",
    "    \n",
    "    '''\n",
    "    Guide user through processing pipeline, asking for input such as what raw input, complexity, and satisfaction.\n",
    "    Loads and saves processed files into correct directories.\n",
    "    '''\n",
    "    \n",
    "    rawPath = dictTrack[name]['raw']\n",
    "    \n",
    "    raw = cv.imread(rawPath,0)\n",
    "    img = cv.imread(rawPath,0)\n",
    "\n",
    "    \n",
    "    \n",
    "    while True:\n",
    "        \n",
    "        \n",
    "        displayImArray(rawPath)\n",
    "        \n",
    "        diff = 0\n",
    "        \n",
    "        while True:\n",
    "            \n",
    "            diff = int(input('How complicated do you want your starter image to be? (From 1 - 10). Easy to Hard    '))\n",
    "            \n",
    "            if diff >= 1 and diff <= 10:     \n",
    "                break\n",
    "                \n",
    "        medVal = getComplexVal(diff)\n",
    "                \n",
    "        ###### Process 1\n",
    "        img_blur = cv2.medianBlur(img, medVal)\n",
    "        edges1 = cv.Canny(img_blur,1,100)\n",
    "        \n",
    "        p1 = 255 - edges1\n",
    "        \n",
    "        onePath = saveProcess(name, \"1\", p1)\n",
    "        \n",
    "        displayImArray(rawPath, onePath)\n",
    "        \n",
    "        \n",
    "        ###### Step 1 Validation\n",
    "        \n",
    "        satisfied = input(\"Are you satisfied? (yes or no)\")\n",
    "        \n",
    "        if (satisfied.lower() == 'no'):\n",
    "            \n",
    "            clear_output()\n",
    "            \n",
    "            print(\"Try another complexity value!\")\n",
    "            \n",
    "            continue\n",
    "        \n",
    "        \n",
    "        ###### Process 2\n",
    "        \n",
    "        img_blur2 = cv2.medianBlur(img, findProp(medVal, .6))\n",
    "        \n",
    "        edges2 = cv.Canny(img_blur2,1,100)\n",
    "        \n",
    "        p2 = 255 - edges2\n",
    "        \n",
    "        twoPath = saveProcess(name, \"2\", p2)\n",
    "        \n",
    "        #displayImArray(rawPath, onePath, twoPath)\n",
    "        \n",
    "        \n",
    "        ###### Process 3\n",
    "        \n",
    "        img_blur3 = cv2.medianBlur(img, findProp(medVal, .355))\n",
    "        edges3 = cv.Canny(img_blur3,1,100)\n",
    "        \n",
    "        p3 = 255 - edges3\n",
    "        \n",
    "        threePath = saveProcess(name, \"3\", p3)\n",
    "        \n",
    "        #displayImArray(rawPath, onePath, twoPath)\n",
    "        \n",
    "        \n",
    "        ###### Process 4\n",
    "        \n",
    "        img_blur4 = cv2.medianBlur(img, findProp(medVal, 2.29))\n",
    "        \n",
    "        img_blur4_2 = cv2.medianBlur(img, findProp(medVal, .355))\n",
    "        edges4 = cv.Canny(img_blur4_2, 1, 100)\n",
    "        edges4 = edges4 * 70\n",
    "        \n",
    "        p4 = (255 - edges4) + img_blur4\n",
    "        \n",
    "        fourPath = saveProcess(name, \"4\", p4)\n",
    "        \n",
    "        \n",
    "        ###### Process 5\n",
    "        \n",
    "        img_blur5 = cv2.medianBlur(img, medVal)\n",
    "        \n",
    "        img_blur5_2 = cv2.medianBlur(img, findProp(medVal, .355))\n",
    "        edges5 = cv.Canny(img_blur5_2, 1, 100)\n",
    "        edges5 = edges5 * 70\n",
    "        \n",
    "        p5 = (255 - edges5) + img_blur5\n",
    "        \n",
    "        fivePath = saveProcess(name, \"5\", p5)\n",
    "        \n",
    "        \n",
    "        #Display\n",
    "        displayImArray(rawPath, onePath, twoPath, threePath, fourPath, fivePath)\n",
    "        \n",
    "    \n",
    "        break\n",
    "        \n",
    "\n",
    "    \n",
    "    \n",
    "    \n",
    "    "
   ]
  },
  {
   "cell_type": "code",
   "execution_count": 14,
   "id": "fde6f864",
   "metadata": {},
   "outputs": [
    {
     "data": {
      "application/vnd.jupyter.widget-view+json": {
       "model_id": "b86c68a67dbf43659f3e72a79a310255",
       "version_major": 2,
       "version_minor": 0
      },
      "text/plain": [
       "HBox(children=(Image(value=b'\\xff\\xd8\\xff\\xe0\\x00\\x10JFIF\\x00\\x01\\x01\\x00\\x00H\\x00H\\x00\\x00\\xff\\xe1\\x00LExif\\x…"
      ]
     },
     "metadata": {},
     "output_type": "display_data"
    },
    {
     "name": "stdout",
     "output_type": "stream",
     "text": [
      "How complicated do you want your starter image to be? (From 1 - 10). Easy to Hard    6\n"
     ]
    },
    {
     "data": {
      "application/vnd.jupyter.widget-view+json": {
       "model_id": "9c2f664a3055409e89019446016caa0d",
       "version_major": 2,
       "version_minor": 0
      },
      "text/plain": [
       "HBox(children=(Image(value=b'\\xff\\xd8\\xff\\xe0\\x00\\x10JFIF\\x00\\x01\\x01\\x00\\x00H\\x00H\\x00\\x00\\xff\\xe1\\x00LExif\\x…"
      ]
     },
     "metadata": {},
     "output_type": "display_data"
    },
    {
     "name": "stdout",
     "output_type": "stream",
     "text": [
      "Are you satisfied? (yes or no)yes\n"
     ]
    },
    {
     "data": {
      "application/vnd.jupyter.widget-view+json": {
       "model_id": "cb7a823703cb4a89a74f1a5ecbbbd0d7",
       "version_major": 2,
       "version_minor": 0
      },
      "text/plain": [
       "HBox(children=(Image(value=b'\\xff\\xd8\\xff\\xe0\\x00\\x10JFIF\\x00\\x01\\x01\\x00\\x00H\\x00H\\x00\\x00\\xff\\xe1\\x00LExif\\x…"
      ]
     },
     "metadata": {},
     "output_type": "display_data"
    }
   ],
   "source": [
    "makeDrawFiles(\"eagle\", fileTrack, trackDf)"
   ]
  },
  {
   "cell_type": "code",
   "execution_count": 15,
   "id": "a10222ad",
   "metadata": {},
   "outputs": [
    {
     "data": {
      "text/html": [
       "<div>\n",
       "<style scoped>\n",
       "    .dataframe tbody tr th:only-of-type {\n",
       "        vertical-align: middle;\n",
       "    }\n",
       "\n",
       "    .dataframe tbody tr th {\n",
       "        vertical-align: top;\n",
       "    }\n",
       "\n",
       "    .dataframe thead th {\n",
       "        text-align: right;\n",
       "    }\n",
       "</style>\n",
       "<table border=\"1\" class=\"dataframe\">\n",
       "  <thead>\n",
       "    <tr style=\"text-align: right;\">\n",
       "      <th></th>\n",
       "      <th>raw</th>\n",
       "      <th>1</th>\n",
       "      <th>2</th>\n",
       "      <th>3</th>\n",
       "      <th>4</th>\n",
       "      <th>5</th>\n",
       "    </tr>\n",
       "  </thead>\n",
       "  <tbody>\n",
       "    <tr>\n",
       "      <th>zebra</th>\n",
       "      <td>./Drawings/zebra.jpeg</td>\n",
       "      <td>./Processed/zebra/1.jpg</td>\n",
       "      <td>./Processed/zebra/2.jpg</td>\n",
       "      <td>./Processed/zebra/3.jpg</td>\n",
       "      <td>./Processed/zebra/4.jpg</td>\n",
       "      <td>./Processed/zebra/5.jpg</td>\n",
       "    </tr>\n",
       "    <tr>\n",
       "      <th>squirrel</th>\n",
       "      <td>./Drawings/squirrel.jpeg</td>\n",
       "      <td>./Processed/squirrel/1.jpg</td>\n",
       "      <td>./Processed/squirrel/2.jpg</td>\n",
       "      <td>./Processed/squirrel/3.jpg</td>\n",
       "      <td>./Processed/squirrel/4.jpg</td>\n",
       "      <td>./Processed/squirrel/5.jpg</td>\n",
       "    </tr>\n",
       "    <tr>\n",
       "      <th>bird</th>\n",
       "      <td>./Drawings/bird.jpeg</td>\n",
       "      <td>./Processed/bird/1.jpg</td>\n",
       "      <td>./Processed/bird/2.jpg</td>\n",
       "      <td>./Processed/bird/3.jpg</td>\n",
       "      <td>./Processed/bird/4.jpg</td>\n",
       "      <td>./Processed/bird/5.jpg</td>\n",
       "    </tr>\n",
       "    <tr>\n",
       "      <th>elephant</th>\n",
       "      <td>./Drawings/elephant.jpeg</td>\n",
       "      <td>./Processed/elephant/1.jpg</td>\n",
       "      <td>./Processed/elephant/2.jpg</td>\n",
       "      <td>./Processed/elephant/3.jpg</td>\n",
       "      <td>./Processed/elephant/4.jpg</td>\n",
       "      <td>./Processed/elephant/5.jpg</td>\n",
       "    </tr>\n",
       "    <tr>\n",
       "      <th>eagle</th>\n",
       "      <td>./Drawings/eagle.jpeg</td>\n",
       "      <td>./Processed/eagle/1.jpg</td>\n",
       "      <td>./Processed/eagle/2.jpg</td>\n",
       "      <td>./Processed/eagle/3.jpg</td>\n",
       "      <td>./Processed/eagle/4.jpg</td>\n",
       "      <td>./Processed/eagle/5.jpg</td>\n",
       "    </tr>\n",
       "  </tbody>\n",
       "</table>\n",
       "</div>"
      ],
      "text/plain": [
       "                               raw                           1  \\\n",
       "zebra        ./Drawings/zebra.jpeg     ./Processed/zebra/1.jpg   \n",
       "squirrel  ./Drawings/squirrel.jpeg  ./Processed/squirrel/1.jpg   \n",
       "bird          ./Drawings/bird.jpeg      ./Processed/bird/1.jpg   \n",
       "elephant  ./Drawings/elephant.jpeg  ./Processed/elephant/1.jpg   \n",
       "eagle        ./Drawings/eagle.jpeg     ./Processed/eagle/1.jpg   \n",
       "\n",
       "                                   2                           3  \\\n",
       "zebra        ./Processed/zebra/2.jpg     ./Processed/zebra/3.jpg   \n",
       "squirrel  ./Processed/squirrel/2.jpg  ./Processed/squirrel/3.jpg   \n",
       "bird          ./Processed/bird/2.jpg      ./Processed/bird/3.jpg   \n",
       "elephant  ./Processed/elephant/2.jpg  ./Processed/elephant/3.jpg   \n",
       "eagle        ./Processed/eagle/2.jpg     ./Processed/eagle/3.jpg   \n",
       "\n",
       "                                   4                           5  \n",
       "zebra        ./Processed/zebra/4.jpg     ./Processed/zebra/5.jpg  \n",
       "squirrel  ./Processed/squirrel/4.jpg  ./Processed/squirrel/5.jpg  \n",
       "bird          ./Processed/bird/4.jpg      ./Processed/bird/5.jpg  \n",
       "elephant  ./Processed/elephant/4.jpg  ./Processed/elephant/5.jpg  \n",
       "eagle        ./Processed/eagle/4.jpg     ./Processed/eagle/5.jpg  "
      ]
     },
     "execution_count": 15,
     "metadata": {},
     "output_type": "execute_result"
    }
   ],
   "source": [
    "trackDf"
   ]
  },
  {
   "cell_type": "code",
   "execution_count": 16,
   "id": "03d0e5b4",
   "metadata": {},
   "outputs": [
    {
     "data": {
      "text/plain": [
       "{'zebra': {'raw': './Drawings/zebra.jpeg',\n",
       "  '1': './Processed/zebra/1.jpg',\n",
       "  '2': './Processed/zebra/2.jpg',\n",
       "  '3': './Processed/zebra/3.jpg',\n",
       "  '4': './Processed/zebra/4.jpg',\n",
       "  '5': './Processed/zebra/5.jpg'},\n",
       " 'squirrel': {'raw': './Drawings/squirrel.jpeg',\n",
       "  '1': './Processed/squirrel/1.jpg',\n",
       "  '2': './Processed/squirrel/2.jpg',\n",
       "  '3': './Processed/squirrel/3.jpg',\n",
       "  '4': './Processed/squirrel/4.jpg',\n",
       "  '5': './Processed/squirrel/5.jpg'},\n",
       " 'bird': {'raw': './Drawings/bird.jpeg',\n",
       "  '1': './Processed/bird/1.jpg',\n",
       "  '2': './Processed/bird/2.jpg',\n",
       "  '3': './Processed/bird/3.jpg',\n",
       "  '4': './Processed/bird/4.jpg',\n",
       "  '5': './Processed/bird/5.jpg'},\n",
       " 'elephant': {'raw': './Drawings/elephant.jpeg',\n",
       "  '1': './Processed/elephant/1.jpg',\n",
       "  '2': './Processed/elephant/2.jpg',\n",
       "  '3': './Processed/elephant/3.jpg',\n",
       "  '4': './Processed/elephant/4.jpg',\n",
       "  '5': './Processed/elephant/5.jpg'},\n",
       " 'eagle': {'raw': './Drawings/eagle.jpeg',\n",
       "  '1': './Processed/eagle/1.jpg',\n",
       "  '2': './Processed/eagle/2.jpg',\n",
       "  '3': './Processed/eagle/3.jpg',\n",
       "  '4': './Processed/eagle/4.jpg',\n",
       "  '5': './Processed/eagle/5.jpg'}}"
      ]
     },
     "execution_count": 16,
     "metadata": {},
     "output_type": "execute_result"
    }
   ],
   "source": [
    "fileTrack"
   ]
  },
  {
   "cell_type": "markdown",
   "id": "a36164f5",
   "metadata": {},
   "source": [
    "## Create PDF"
   ]
  },
  {
   "cell_type": "code",
   "execution_count": 17,
   "id": "c275210d",
   "metadata": {},
   "outputs": [],
   "source": [
    "def genPdf(name, df):\n",
    "    \n",
    "    '''\n",
    "    From animal name, create a pdf worksheet displaying step by step instructions to draw animal\n",
    "    '''\n",
    "    \n",
    "    \n",
    "    if df.loc[name].isnull().any():\n",
    "        \n",
    "        raise Exception(\"Need 5 Processed Drawing Files\")\n",
    "\n",
    "    pdf = FPDF() # Initializing object\n",
    "    pdf.add_page() # Adding new page\n",
    "\n",
    "\n",
    "    pdf.set_fill_color(200,0,0)\n",
    "    pdf.set_text_color(255,255,255)\n",
    "    pdf.set_font(\"Arial\", size=30, style='B')\n",
    "    pdf.set_xy(10,32)\n",
    "    pdf.cell(0, 12.5, txt= (name + ' Drawing Instructions').upper(), ln=1, align=\"C\" , fill = True)\n",
    "\n",
    "\n",
    "    w = 50\n",
    "    h = 50\n",
    "\n",
    "    start_y = 110\n",
    "    space = 15\n",
    "\n",
    "    pdf.image(df.loc[name]['raw'], x= 15, y= start_y, w=w, h=h)\n",
    "    pdf.image(df.loc[name]['1'], x= space * 2 + w, y= start_y, w=w, h=h)\n",
    "    pdf.image(df.loc[name]['2'], x= space * 3 + 2 * w, y= start_y, w=w, h=h)\n",
    "\n",
    "    pdf.image(df.loc[name]['3'], x=15, y= 2 * space + h + start_y, w=w, h=h)\n",
    "    pdf.image(df.loc[name]['4'], x= space * 2 + w, y= 2 * space + h + start_y, w=w, h=h)\n",
    "    pdf.image(df.loc[name]['5'], x= space * 3 + 2 * w, y= 2 * space + h + start_y, w=w, h=h)\n",
    "    \n",
    "    \n",
    "    outpath = \"./worksheets/\" + name + \".pdf\"\n",
    "    pdf.output(outpath)\n",
    "\n",
    "    \n",
    "    display(IFrame(outpath, width=200, height=200))\n",
    "    \n",
    "    \n",
    "    "
   ]
  },
  {
   "cell_type": "code",
   "execution_count": 18,
   "id": "c292d975",
   "metadata": {},
   "outputs": [
    {
     "data": {
      "text/html": [
       "\n",
       "        <iframe\n",
       "            width=\"200\"\n",
       "            height=\"200\"\n",
       "            src=\"./worksheets/eagle.pdf\"\n",
       "            frameborder=\"0\"\n",
       "            allowfullscreen\n",
       "            \n",
       "        ></iframe>\n",
       "        "
      ],
      "text/plain": [
       "<IPython.lib.display.IFrame at 0x7fef7022e5e0>"
      ]
     },
     "metadata": {},
     "output_type": "display_data"
    }
   ],
   "source": [
    "genPdf(\"eagle\", trackDf)"
   ]
  },
  {
   "cell_type": "markdown",
   "id": "7fa41d5c",
   "metadata": {},
   "source": [
    "## Putting it Together - Run Complete Pipeline"
   ]
  },
  {
   "cell_type": "code",
   "execution_count": 19,
   "id": "f26240a1",
   "metadata": {},
   "outputs": [],
   "source": [
    "def comPipe():\n",
    "    \n",
    "    \n",
    "    repo, frame = initiliazeTrackers()\n",
    "    \n",
    "    updateTracker(repo, frame)\n",
    "    \n",
    "    while True:\n",
    "        \n",
    "        name = input(\"What Animal? \")\n",
    "        name = name.lower()\n",
    "        \n",
    "        if name not in frame.index:\n",
    "            print(\"****\" + name + \" not in drawing repo, please select from the options above.\" + \"****\")\n",
    "        \n",
    "        else:\n",
    "            break\n",
    "    \n",
    "    \n",
    "    makeDrawFiles(name, repo, frame)\n",
    "    genPdf(name, frame)\n",
    "    "
   ]
  },
  {
   "cell_type": "code",
   "execution_count": 20,
   "id": "da043c5f",
   "metadata": {},
   "outputs": [
    {
     "name": "stdout",
     "output_type": "stream",
     "text": [
      "zebra\n",
      "squirrel\n",
      "bird\n",
      "elephant\n",
      "eagle\n",
      "What Animal? alligator\n",
      "****alligator not in drawing repo, please select from the options above.****\n",
      "What Animal? elephant\n"
     ]
    },
    {
     "data": {
      "application/vnd.jupyter.widget-view+json": {
       "model_id": "01c63bc5533248fc9ed13724a0250ef6",
       "version_major": 2,
       "version_minor": 0
      },
      "text/plain": [
       "HBox(children=(Image(value=b'\\xff\\xd8\\xff\\xe0\\x00\\x10JFIF\\x00\\x01\\x01\\x00\\x00`\\x00`\\x00\\x00\\xff\\xe1\\x00\\x80Exi…"
      ]
     },
     "metadata": {},
     "output_type": "display_data"
    },
    {
     "name": "stdout",
     "output_type": "stream",
     "text": [
      "How complicated do you want your starter image to be? (From 1 - 10). Easy to Hard    7\n"
     ]
    },
    {
     "data": {
      "application/vnd.jupyter.widget-view+json": {
       "model_id": "7112c5eeb8284ba0af26fd4229884e0f",
       "version_major": 2,
       "version_minor": 0
      },
      "text/plain": [
       "HBox(children=(Image(value=b'\\xff\\xd8\\xff\\xe0\\x00\\x10JFIF\\x00\\x01\\x01\\x00\\x00`\\x00`\\x00\\x00\\xff\\xe1\\x00\\x80Exi…"
      ]
     },
     "metadata": {},
     "output_type": "display_data"
    },
    {
     "name": "stdout",
     "output_type": "stream",
     "text": [
      "Are you satisfied? (yes or no)yes\n"
     ]
    },
    {
     "data": {
      "application/vnd.jupyter.widget-view+json": {
       "model_id": "c73dd4898d114ba582ad21f1e2398e7f",
       "version_major": 2,
       "version_minor": 0
      },
      "text/plain": [
       "HBox(children=(Image(value=b'\\xff\\xd8\\xff\\xe0\\x00\\x10JFIF\\x00\\x01\\x01\\x00\\x00`\\x00`\\x00\\x00\\xff\\xe1\\x00\\x80Exi…"
      ]
     },
     "metadata": {},
     "output_type": "display_data"
    },
    {
     "data": {
      "text/html": [
       "\n",
       "        <iframe\n",
       "            width=\"200\"\n",
       "            height=\"200\"\n",
       "            src=\"./worksheets/elephant.pdf\"\n",
       "            frameborder=\"0\"\n",
       "            allowfullscreen\n",
       "            \n",
       "        ></iframe>\n",
       "        "
      ],
      "text/plain": [
       "<IPython.lib.display.IFrame at 0x7fef712bc610>"
      ]
     },
     "metadata": {},
     "output_type": "display_data"
    }
   ],
   "source": [
    "comPipe()"
   ]
  },
  {
   "cell_type": "markdown",
   "id": "f0fd2973",
   "metadata": {},
   "source": [
    "## Copyright Statement\n",
    "All Rights Reserved.\n",
    "\n",
    "All material appearing in the E-Z Draw code repo is protected by copyright under U.S. Copyright laws and is the property of BME 271 Project Group or the party credited as the provider of the content. You may not copy, reproduce, distribute, publish, display, perform, modify, create derivative works, transmit, or in any way exploit any such content, nor may you distribute any part of this content over any network, including a local area network, sell or offer it for sale, or use such content to construct any kind of database. You may not alter or remove any copyright or other notice from copies of the content in E-Z Draw code repo. Copying or storing any content except as provided above is expressly prohibited without prior written permission of the University or the copyright holder identified in the individual content’s copyright notice."
   ]
  },
  {
   "cell_type": "code",
   "execution_count": null,
   "id": "814c445f",
   "metadata": {},
   "outputs": [],
   "source": []
  }
 ],
 "metadata": {
  "kernelspec": {
   "display_name": "Python 3 (ipykernel)",
   "language": "python",
   "name": "python3"
  },
  "language_info": {
   "codemirror_mode": {
    "name": "ipython",
    "version": 3
   },
   "file_extension": ".py",
   "mimetype": "text/x-python",
   "name": "python",
   "nbconvert_exporter": "python",
   "pygments_lexer": "ipython3",
   "version": "3.9.12"
  }
 },
 "nbformat": 4,
 "nbformat_minor": 5
}
