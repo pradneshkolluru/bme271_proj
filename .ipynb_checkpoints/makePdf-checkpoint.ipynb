{
 "cells": [
  {
   "cell_type": "code",
   "execution_count": 15,
   "id": "58777ef2",
   "metadata": {},
   "outputs": [],
   "source": [
    "import pandas as pd\n",
    "from fpdf import FPDF"
   ]
  },
  {
   "cell_type": "code",
   "execution_count": 2,
   "id": "865361e4",
   "metadata": {},
   "outputs": [
    {
     "data": {
      "text/plain": [
       "'/Users/pradneshkolluru/Library/CloudStorage/OneDrive-DukeUniversity/Courses/BME271/bme271_proj'"
      ]
     },
     "execution_count": 2,
     "metadata": {},
     "output_type": "execute_result"
    }
   ],
   "source": [
    "pwd"
   ]
  },
  {
   "cell_type": "code",
   "execution_count": 3,
   "id": "d73c5754",
   "metadata": {},
   "outputs": [
    {
     "name": "stdout",
     "output_type": "stream",
     "text": [
      "BME271 Skeleton Code.ipynb  \u001b[31mmain.ipynb\u001b[m\u001b[m*\r\n",
      "\u001b[34mDrawings\u001b[m\u001b[m/                   makePdf.ipynb\r\n",
      "\u001b[34mProcessed\u001b[m\u001b[m/                  tracker.csv\r\n",
      "empty.jpg                   \u001b[34mworksheets\u001b[m\u001b[m/\r\n"
     ]
    }
   ],
   "source": [
    "ls"
   ]
  },
  {
   "cell_type": "code",
   "execution_count": 4,
   "id": "e6b1599d",
   "metadata": {},
   "outputs": [],
   "source": [
    "df = pd.read_csv('./tracker.csv')"
   ]
  },
  {
   "cell_type": "code",
   "execution_count": 10,
   "id": "ea0de0b0",
   "metadata": {},
   "outputs": [],
   "source": [
    "df = df.set_index('Unnamed: 0')"
   ]
  },
  {
   "cell_type": "code",
   "execution_count": 11,
   "id": "45247d28",
   "metadata": {},
   "outputs": [
    {
     "data": {
      "text/html": [
       "<div>\n",
       "<style scoped>\n",
       "    .dataframe tbody tr th:only-of-type {\n",
       "        vertical-align: middle;\n",
       "    }\n",
       "\n",
       "    .dataframe tbody tr th {\n",
       "        vertical-align: top;\n",
       "    }\n",
       "\n",
       "    .dataframe thead th {\n",
       "        text-align: right;\n",
       "    }\n",
       "</style>\n",
       "<table border=\"1\" class=\"dataframe\">\n",
       "  <thead>\n",
       "    <tr style=\"text-align: right;\">\n",
       "      <th></th>\n",
       "      <th>raw</th>\n",
       "      <th>1</th>\n",
       "      <th>2</th>\n",
       "      <th>3</th>\n",
       "      <th>4</th>\n",
       "      <th>5</th>\n",
       "    </tr>\n",
       "    <tr>\n",
       "      <th>Unnamed: 0</th>\n",
       "      <th></th>\n",
       "      <th></th>\n",
       "      <th></th>\n",
       "      <th></th>\n",
       "      <th></th>\n",
       "      <th></th>\n",
       "    </tr>\n",
       "  </thead>\n",
       "  <tbody>\n",
       "    <tr>\n",
       "      <th>squirrel</th>\n",
       "      <td>./Drawings/squirrel.jpeg</td>\n",
       "      <td>NaN</td>\n",
       "      <td>NaN</td>\n",
       "      <td>NaN</td>\n",
       "      <td>NaN</td>\n",
       "      <td>NaN</td>\n",
       "    </tr>\n",
       "    <tr>\n",
       "      <th>bird</th>\n",
       "      <td>./Drawings/bird.jpeg</td>\n",
       "      <td>NaN</td>\n",
       "      <td>NaN</td>\n",
       "      <td>NaN</td>\n",
       "      <td>NaN</td>\n",
       "      <td>NaN</td>\n",
       "    </tr>\n",
       "    <tr>\n",
       "      <th>elephant</th>\n",
       "      <td>./Drawings/elephant.jpeg</td>\n",
       "      <td>./Processed/elephant/1.jpg</td>\n",
       "      <td>./Processed/elephant/2.jpg</td>\n",
       "      <td>./Processed/elephant/3.jpg</td>\n",
       "      <td>NaN</td>\n",
       "      <td>NaN</td>\n",
       "    </tr>\n",
       "    <tr>\n",
       "      <th>eagle</th>\n",
       "      <td>./Drawings/eagle.jpeg</td>\n",
       "      <td>./Processed/eagle/1.jpg</td>\n",
       "      <td>./Processed/eagle/2.jpg</td>\n",
       "      <td>./Processed/eagle/3.jpg</td>\n",
       "      <td>./Processed/eagle/4.jpg</td>\n",
       "      <td>./Processed/eagle/5.jpg</td>\n",
       "    </tr>\n",
       "  </tbody>\n",
       "</table>\n",
       "</div>"
      ],
      "text/plain": [
       "                                 raw                           1  \\\n",
       "Unnamed: 0                                                         \n",
       "squirrel    ./Drawings/squirrel.jpeg                         NaN   \n",
       "bird            ./Drawings/bird.jpeg                         NaN   \n",
       "elephant    ./Drawings/elephant.jpeg  ./Processed/elephant/1.jpg   \n",
       "eagle          ./Drawings/eagle.jpeg     ./Processed/eagle/1.jpg   \n",
       "\n",
       "                                     2                           3  \\\n",
       "Unnamed: 0                                                           \n",
       "squirrel                           NaN                         NaN   \n",
       "bird                               NaN                         NaN   \n",
       "elephant    ./Processed/elephant/2.jpg  ./Processed/elephant/3.jpg   \n",
       "eagle          ./Processed/eagle/2.jpg     ./Processed/eagle/3.jpg   \n",
       "\n",
       "                                  4                        5  \n",
       "Unnamed: 0                                                    \n",
       "squirrel                        NaN                      NaN  \n",
       "bird                            NaN                      NaN  \n",
       "elephant                        NaN                      NaN  \n",
       "eagle       ./Processed/eagle/4.jpg  ./Processed/eagle/5.jpg  "
      ]
     },
     "execution_count": 11,
     "metadata": {},
     "output_type": "execute_result"
    }
   ],
   "source": [
    "df"
   ]
  },
  {
   "cell_type": "code",
   "execution_count": 13,
   "id": "47511c51",
   "metadata": {},
   "outputs": [
    {
     "data": {
      "text/plain": [
       "Index(['raw', '1', '2', '3', '4', '5'], dtype='object')"
      ]
     },
     "execution_count": 13,
     "metadata": {},
     "output_type": "execute_result"
    }
   ],
   "source": [
    "df.columns"
   ]
  },
  {
   "cell_type": "code",
   "execution_count": 105,
   "id": "5e2a0ad4",
   "metadata": {},
   "outputs": [],
   "source": [
    "def genPdf(name):\n",
    "    \n",
    "    \n",
    "    if df.loc[name].isnull().any():\n",
    "        \n",
    "        raise Exception(\"Need 5 Processed Drawing Files\")\n",
    "\n",
    "    pdf = FPDF() # Initializing object\n",
    "    pdf.add_page() # Adding new page\n",
    "\n",
    "\n",
    "    pdf.set_fill_color(200,0,0)\n",
    "    pdf.set_text_color(255,255,255)\n",
    "    pdf.set_font(\"Arial\", size=30, style='B')\n",
    "    pdf.set_xy(10,32)\n",
    "    pdf.cell(0, 12.5, txt= (name + ' Drawing Instructions').upper(), ln=1, align=\"C\" , fill = True)\n",
    "\n",
    "\n",
    "    w = 50\n",
    "    h = 50\n",
    "\n",
    "    start_y = 110\n",
    "    space = 15\n",
    "\n",
    "    pdf.image(df.loc[name]['raw'], x= 15, y= start_y, w=w, h=h)\n",
    "    pdf.image(df.loc[name]['1'], x= space * 2 + w, y= start_y, w=w, h=h)\n",
    "    pdf.image(df.loc[name]['2'], x= space * 3 + 2 * w, y= start_y, w=w, h=h)\n",
    "\n",
    "    pdf.image(df.loc[name]['3'], x=15, y= 2 * space + h + start_y, w=w, h=h)\n",
    "    pdf.image(df.loc[name]['4'], x= space * 2 + w, y= 2 * space + h + start_y, w=w, h=h)\n",
    "    pdf.image(df.loc[name]['5'], x= space * 3 + 2 * w, y= 2 * space + h + start_y, w=w, h=h)\n",
    "\n",
    "    pdf.output(\"./worksheets/\" + name + \".pdf\") \n"
   ]
  },
  {
   "cell_type": "code",
   "execution_count": 106,
   "id": "434f5d93",
   "metadata": {},
   "outputs": [
    {
     "ename": "Exception",
     "evalue": "Need 5 Processed Drawing Files",
     "output_type": "error",
     "traceback": [
      "\u001b[0;31m---------------------------------------------------------------------------\u001b[0m",
      "\u001b[0;31mException\u001b[0m                                 Traceback (most recent call last)",
      "Input \u001b[0;32mIn [106]\u001b[0m, in \u001b[0;36m<cell line: 1>\u001b[0;34m()\u001b[0m\n\u001b[0;32m----> 1\u001b[0m \u001b[43mgenPdf\u001b[49m\u001b[43m(\u001b[49m\u001b[38;5;124;43m\"\u001b[39;49m\u001b[38;5;124;43mbird\u001b[39;49m\u001b[38;5;124;43m\"\u001b[39;49m\u001b[43m)\u001b[49m\n",
      "Input \u001b[0;32mIn [105]\u001b[0m, in \u001b[0;36mgenPdf\u001b[0;34m(name)\u001b[0m\n\u001b[1;32m      1\u001b[0m \u001b[38;5;28;01mdef\u001b[39;00m \u001b[38;5;21mgenPdf\u001b[39m(name):\n\u001b[1;32m      4\u001b[0m     \u001b[38;5;28;01mif\u001b[39;00m df\u001b[38;5;241m.\u001b[39mloc[name]\u001b[38;5;241m.\u001b[39misnull()\u001b[38;5;241m.\u001b[39many():\n\u001b[0;32m----> 6\u001b[0m         \u001b[38;5;28;01mraise\u001b[39;00m \u001b[38;5;167;01mException\u001b[39;00m(\u001b[38;5;124m\"\u001b[39m\u001b[38;5;124mNeed 5 Processed Drawing Files\u001b[39m\u001b[38;5;124m\"\u001b[39m)\n\u001b[1;32m      8\u001b[0m     pdf \u001b[38;5;241m=\u001b[39m FPDF() \u001b[38;5;66;03m# Initializing object\u001b[39;00m\n\u001b[1;32m      9\u001b[0m     pdf\u001b[38;5;241m.\u001b[39madd_page() \u001b[38;5;66;03m# Adding new page\u001b[39;00m\n",
      "\u001b[0;31mException\u001b[0m: Need 5 Processed Drawing Files"
     ]
    }
   ],
   "source": [
    "genPdf(\"bird\")"
   ]
  },
  {
   "cell_type": "code",
   "execution_count": null,
   "id": "f1c6c1d0",
   "metadata": {},
   "outputs": [],
   "source": []
  }
 ],
 "metadata": {
  "kernelspec": {
   "display_name": "Python 3 (ipykernel)",
   "language": "python",
   "name": "python3"
  },
  "language_info": {
   "codemirror_mode": {
    "name": "ipython",
    "version": 3
   },
   "file_extension": ".py",
   "mimetype": "text/x-python",
   "name": "python",
   "nbconvert_exporter": "python",
   "pygments_lexer": "ipython3",
   "version": "3.9.12"
  }
 },
 "nbformat": 4,
 "nbformat_minor": 5
}
